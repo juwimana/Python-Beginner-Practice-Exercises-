{
 "cells": [
  {
   "cell_type": "markdown",
   "metadata": {},
   "source": [
    "### Learn NumPy\n",
    "[Click For More](https://numpy.org/)"
   ]
  },
  {
   "cell_type": "markdown",
   "metadata": {},
   "source": [
    "#### Import Library"
   ]
  },
  {
   "cell_type": "code",
   "execution_count": 1,
   "metadata": {},
   "outputs": [],
   "source": [
    "import numpy as np"
   ]
  },
  {
   "cell_type": "markdown",
   "metadata": {},
   "source": [
    "#### Basics of NumPy"
   ]
  },
  {
   "cell_type": "code",
   "execution_count": 3,
   "metadata": {},
   "outputs": [
    {
     "name": "stdout",
     "output_type": "stream",
     "text": [
      "[1 2 3]\n"
     ]
    }
   ],
   "source": [
    "#create a numpy array A\n",
    "A = np.array([1,2,3])\n",
    "print(A)"
   ]
  },
  {
   "cell_type": "code",
   "execution_count": 9,
   "metadata": {},
   "outputs": [
    {
     "name": "stdout",
     "output_type": "stream",
     "text": [
      "[[ 2.  4.  5.]\n",
      " [ 6.  8. 10.]]\n"
     ]
    }
   ],
   "source": [
    "#create numpy array B\n",
    "B = np.array([[2.0,4.0,5.0],[6.0,8.0,10.0]])\n",
    "print(B)"
   ]
  },
  {
   "cell_type": "code",
   "execution_count": 12,
   "metadata": {},
   "outputs": [
    {
     "name": "stdout",
     "output_type": "stream",
     "text": [
      "1\n",
      "2\n"
     ]
    }
   ],
   "source": [
    "#get dimension of A and B\n",
    "print(A.ndim)\n",
    "print(B.ndim)"
   ]
  },
  {
   "cell_type": "code",
   "execution_count": 13,
   "metadata": {},
   "outputs": [
    {
     "name": "stdout",
     "output_type": "stream",
     "text": [
      "(3,)\n",
      "(2, 3)\n"
     ]
    }
   ],
   "source": [
    "#get shape of A and B\n",
    "print(A.shape)\n",
    "print(B.shape)"
   ]
  },
  {
   "cell_type": "code",
   "execution_count": 14,
   "metadata": {},
   "outputs": [
    {
     "name": "stdout",
     "output_type": "stream",
     "text": [
      "<class 'numpy.ndarray'>\n",
      "<class 'numpy.ndarray'>\n"
     ]
    }
   ],
   "source": [
    "#get type of A and B\n",
    "print(type(A))\n",
    "print(type(B))"
   ]
  },
  {
   "cell_type": "code",
   "execution_count": 15,
   "metadata": {},
   "outputs": [
    {
     "name": "stdout",
     "output_type": "stream",
     "text": [
      "4\n",
      "8\n"
     ]
    }
   ],
   "source": [
    "#get size of A and B\n",
    "print(A.itemsize)\n",
    "print(B.itemsize)"
   ]
  },
  {
   "cell_type": "code",
   "execution_count": 16,
   "metadata": {},
   "outputs": [
    {
     "name": "stdout",
     "output_type": "stream",
     "text": [
      "12\n",
      "48\n"
     ]
    }
   ],
   "source": [
    "#get total size of A and B\n",
    "print(A.nbytes)\n",
    "print(B.nbytes)"
   ]
  },
  {
   "cell_type": "markdown",
   "metadata": {},
   "source": [
    "#### Modify NumPy Arrays"
   ]
  },
  {
   "cell_type": "code",
   "execution_count": 52,
   "metadata": {},
   "outputs": [
    {
     "name": "stdout",
     "output_type": "stream",
     "text": [
      "[[ 1  2  3  4  5  6]\n",
      " [ 8  9 10 11 12 13]]\n"
     ]
    }
   ],
   "source": [
    "#create numpy array C\n",
    "C = np.array([[1,2,3,4,5,6],[8,9,10,11,12,13]])\n",
    "print(C)"
   ]
  },
  {
   "cell_type": "code",
   "execution_count": 53,
   "metadata": {},
   "outputs": [
    {
     "data": {
      "text/plain": [
       "11"
      ]
     },
     "execution_count": 53,
     "metadata": {},
     "output_type": "execute_result"
    }
   ],
   "source": [
    "#get a specific element from C [r,c]\n",
    "C[1,3]"
   ]
  },
  {
   "cell_type": "code",
   "execution_count": 54,
   "metadata": {},
   "outputs": [
    {
     "data": {
      "text/plain": [
       "array([1, 2, 3, 4, 5, 6])"
      ]
     },
     "execution_count": 54,
     "metadata": {},
     "output_type": "execute_result"
    }
   ],
   "source": [
    "#get a specific row [r,:]\n",
    "C[0,:]"
   ]
  },
  {
   "cell_type": "code",
   "execution_count": 55,
   "metadata": {},
   "outputs": [
    {
     "name": "stdout",
     "output_type": "stream",
     "text": [
      "[1 8]\n",
      "[ 4 11]\n",
      "[ 6 13]\n"
     ]
    }
   ],
   "source": [
    "#get a specific column [:,c]\n",
    "print(C[:,0])\n",
    "print(C[:,3])\n",
    "print(C[:,5])"
   ]
  },
  {
   "cell_type": "code",
   "execution_count": 56,
   "metadata": {},
   "outputs": [
    {
     "name": "stdout",
     "output_type": "stream",
     "text": [
      "[3 5]\n",
      "[4 5]\n",
      "[ 8 10 12]\n",
      "[8]\n"
     ]
    }
   ],
   "source": [
    "#get more info from C [startindex:endindex:stepsize]\n",
    "print(C[0, 2:-1:2])\n",
    "print(C[0, 3:-1:1])\n",
    "print(C[1, 0:-1:2])\n",
    "print(C[1, 0:-1:5])"
   ]
  },
  {
   "cell_type": "code",
   "execution_count": 59,
   "metadata": {},
   "outputs": [
    {
     "name": "stdout",
     "output_type": "stream",
     "text": [
      "[[  1   2   3 200   5   6]\n",
      " [  8   9  10 200 100  13]]\n",
      "[[  1   2   3 200   5   6]\n",
      " [  8   9  10 200 100  13]]\n",
      "[[  1   2   3 200   5   6]\n",
      " [ 25  25  25  25  25  25]]\n"
     ]
    }
   ],
   "source": [
    "#change values of rows/column/element\n",
    "C[1,4] = 100\n",
    "print(C)\n",
    "\n",
    "C[:,3] = 200\n",
    "print(C)\n",
    "\n",
    "C[1,:] = 25\n",
    "print(C)"
   ]
  },
  {
   "cell_type": "code",
   "execution_count": 63,
   "metadata": {},
   "outputs": [
    {
     "name": "stdout",
     "output_type": "stream",
     "text": [
      "[[[1 2 3]\n",
      "  [4 2 7]]\n",
      "\n",
      " [[1 0 9]\n",
      "  [3 7 2]]]\n"
     ]
    }
   ],
   "source": [
    "#create numpy 3D array\n",
    "D = np.array([[[1,2,3],[4,2,7]],[[1,0,9],[3,7,2]]])\n",
    "print(D)"
   ]
  },
  {
   "cell_type": "code",
   "execution_count": 65,
   "metadata": {},
   "outputs": [
    {
     "data": {
      "text/plain": [
       "0"
      ]
     },
     "execution_count": 65,
     "metadata": {},
     "output_type": "execute_result"
    }
   ],
   "source": [
    "#access elements of D\n",
    "D[1,0,1]"
   ]
  },
  {
   "cell_type": "code",
   "execution_count": 70,
   "metadata": {},
   "outputs": [
    {
     "data": {
      "text/plain": [
       "array([[[1, 2, 3],\n",
       "        [4, 6, 7]],\n",
       "\n",
       "       [[1, 0, 9],\n",
       "        [0, 1, 3]]])"
      ]
     },
     "execution_count": 70,
     "metadata": {},
     "output_type": "execute_result"
    }
   ],
   "source": [
    "#replace \n",
    "D[:,1,:] = [[4,6,7],[0,1,3]]\n",
    "D"
   ]
  },
  {
   "cell_type": "markdown",
   "metadata": {},
   "source": [
    "#### Initialize Different Types of Arrays\n",
    "[Click For More](https://numpy.org/doc/stable/reference/routines.array-creation.html)"
   ]
  },
  {
   "cell_type": "code",
   "execution_count": 73,
   "metadata": {},
   "outputs": [
    {
     "name": "stdout",
     "output_type": "stream",
     "text": [
      "[0. 0. 0. 0. 0.]\n",
      "[[0. 0. 0.]\n",
      " [0. 0. 0.]\n",
      " [0. 0. 0.]]\n"
     ]
    }
   ],
   "source": [
    "#all zeros array or matrix\n",
    "print(np.zeros(5))\n",
    "print(np.zeros((3,3)))"
   ]
  },
  {
   "cell_type": "code",
   "execution_count": 75,
   "metadata": {},
   "outputs": [
    {
     "name": "stdout",
     "output_type": "stream",
     "text": [
      "[1. 1. 1.]\n",
      "[[1. 1.]\n",
      " [1. 1.]]\n"
     ]
    }
   ],
   "source": [
    "#all ones array or matrix\n",
    "print(np.ones(3))\n",
    "print(np.ones((2,2)))"
   ]
  },
  {
   "cell_type": "code",
   "execution_count": 77,
   "metadata": {},
   "outputs": [
    {
     "name": "stdout",
     "output_type": "stream",
     "text": [
      "[100 100 100 100 100 100]\n",
      "[[5 5 5]\n",
      " [5 5 5]]\n"
     ]
    }
   ],
   "source": [
    "#array or matrix with any number\n",
    "print(np.full(6,100))\n",
    "print(np.full((2,3),5))"
   ]
  },
  {
   "cell_type": "code",
   "execution_count": 79,
   "metadata": {},
   "outputs": [
    {
     "name": "stdout",
     "output_type": "stream",
     "text": [
      "[100 100 100]\n",
      "[[5. 5. 5.]\n",
      " [5. 5. 5.]]\n"
     ]
    }
   ],
   "source": [
    "#array or matrix with any number\n",
    "print(np.full_like(A,100))\n",
    "print(np.full_like(B,5))"
   ]
  },
  {
   "cell_type": "code",
   "execution_count": 80,
   "metadata": {},
   "outputs": [
    {
     "data": {
      "text/plain": [
       "array([[0.34746261, 0.4432234 ],\n",
       "       [0.07492893, 0.52342718],\n",
       "       [0.4528971 , 0.27530981]])"
      ]
     },
     "execution_count": 80,
     "metadata": {},
     "output_type": "execute_result"
    }
   ],
   "source": [
    "#Random decimal numbers\n",
    "np.random.rand(3,2)"
   ]
  },
  {
   "cell_type": "code",
   "execution_count": 83,
   "metadata": {},
   "outputs": [
    {
     "name": "stdout",
     "output_type": "stream",
     "text": [
      "[[5 3 2]\n",
      " [4 4 3]\n",
      " [3 5 6]\n",
      " [3 0 2]]\n",
      "[[5 6 5]\n",
      " [6 6 4]\n",
      " [4 4 4]\n",
      " [4 3 5]]\n",
      "[[ 2  6  3]\n",
      " [-9  5 -4]\n",
      " [-6 -9  0]\n",
      " [ 1 -7 -3]]\n"
     ]
    }
   ],
   "source": [
    "#Random integer numbers\n",
    "print(np.random.randint(7,size=(4,3)))\n",
    "print(np.random.randint(3,7,size=(4,3)))\n",
    "print(np.random.randint(-10,7,size=(4,3)))"
   ]
  },
  {
   "cell_type": "code",
   "execution_count": 84,
   "metadata": {},
   "outputs": [
    {
     "data": {
      "text/plain": [
       "array([[1., 0., 0., 0., 0.],\n",
       "       [0., 1., 0., 0., 0.],\n",
       "       [0., 0., 1., 0., 0.],\n",
       "       [0., 0., 0., 1., 0.],\n",
       "       [0., 0., 0., 0., 1.]])"
      ]
     },
     "execution_count": 84,
     "metadata": {},
     "output_type": "execute_result"
    }
   ],
   "source": [
    "#identity matrix\n",
    "np.identity(5)"
   ]
  },
  {
   "cell_type": "code",
   "execution_count": 87,
   "metadata": {},
   "outputs": [
    {
     "name": "stdout",
     "output_type": "stream",
     "text": [
      "[1 1 1 2 2 2 3 3 3]\n",
      "[[1 2 3]\n",
      " [1 2 3]\n",
      " [1 2 3]]\n"
     ]
    }
   ],
   "source": [
    "#repeat an array\n",
    "arr = np.array([[1,2,3]])\n",
    "q = np.repeat(arr,3)\n",
    "p = np.repeat(arr,3, axis=0)\n",
    "print(q)\n",
    "print(p)"
   ]
  },
  {
   "cell_type": "code",
   "execution_count": 134,
   "metadata": {},
   "outputs": [
    {
     "name": "stdout",
     "output_type": "stream",
     "text": [
      "[[1 1 1 1 1]\n",
      " [1 0 0 0 1]\n",
      " [1 0 9 0 1]\n",
      " [1 0 0 0 1]\n",
      " [1 1 1 1 1]]\n"
     ]
    }
   ],
   "source": [
    "#create array D\n",
    "D = np.full((5,5),0)\n",
    "D[0,:] = 1\n",
    "D[:,0]=1\n",
    "D[2,2] = 9\n",
    "D[4,:] = 1\n",
    "D[:,4]=1\n",
    "print(D)"
   ]
  },
  {
   "cell_type": "code",
   "execution_count": 136,
   "metadata": {},
   "outputs": [
    {
     "name": "stdout",
     "output_type": "stream",
     "text": [
      "[[1 1 1 1 1]\n",
      " [1 1 1 1 1]\n",
      " [1 1 1 1 1]\n",
      " [1 1 1 1 1]\n",
      " [1 1 1 1 1]]\n",
      "[[0 0 0]\n",
      " [0 9 0]\n",
      " [0 0 0]]\n",
      "[[1 1 1 1 1]\n",
      " [1 0 0 0 1]\n",
      " [1 0 9 0 1]\n",
      " [1 0 0 0 1]\n",
      " [1 1 1 1 1]]\n"
     ]
    }
   ],
   "source": [
    "#create array D\n",
    "D = np.full((5,5),1)\n",
    "print(D)\n",
    "\n",
    "b= np.full((3,3),0)\n",
    "b[1,1]=9\n",
    "print(b)\n",
    "\n",
    "D[1:4,1:4]=b\n",
    "print(D)"
   ]
  },
  {
   "cell_type": "markdown",
   "metadata": {},
   "source": [
    "#### Be careful when copying arrays"
   ]
  },
  {
   "cell_type": "code",
   "execution_count": 137,
   "metadata": {},
   "outputs": [
    {
     "name": "stdout",
     "output_type": "stream",
     "text": [
      "[ 1 40  3]\n"
     ]
    }
   ],
   "source": [
    "#suppose we have two arrays X and Y\n",
    "X = np.array([1,2,3])\n",
    "#set X to Y\n",
    "Y = X\n",
    "#change an element of Y\n",
    "Y[1] = 40\n",
    "\n",
    "#print X\n",
    "print(X)"
   ]
  },
  {
   "cell_type": "code",
   "execution_count": 139,
   "metadata": {},
   "outputs": [
    {
     "name": "stdout",
     "output_type": "stream",
     "text": [
      "[1 2 3]\n",
      "[ 1 40  3]\n"
     ]
    }
   ],
   "source": [
    "#to avoid the case above, make a copy of X when assigning to Y\n",
    "X = np.array([1,2,3])\n",
    "#set X to Y\n",
    "Y = X.copy()\n",
    "#change an element of Y\n",
    "Y[1] = 40\n",
    "\n",
    "#print X\n",
    "print(X)\n",
    "\n",
    "#print Y\n",
    "print(Y)"
   ]
  },
  {
   "cell_type": "markdown",
   "metadata": {},
   "source": [
    "### NumPy Array Mathematics\n",
    "[Click For More](https://numpy.org/doc/stable/reference/routines.math.html)"
   ]
  },
  {
   "cell_type": "code",
   "execution_count": 140,
   "metadata": {},
   "outputs": [
    {
     "name": "stdout",
     "output_type": "stream",
     "text": [
      "[ 2  4  6  8 10]\n"
     ]
    }
   ],
   "source": [
    "#create an array H\n",
    "H = np.array([2,4,6,8,10])\n",
    "print(H)"
   ]
  },
  {
   "cell_type": "code",
   "execution_count": 149,
   "metadata": {},
   "outputs": [
    {
     "name": "stdout",
     "output_type": "stream",
     "text": [
      "[0 2 4 6 8]\n",
      "[ 4  6  8 10 12]\n",
      "[1. 2. 3. 4. 5.]\n",
      "[ 4  8 12 16 20]\n",
      "[  4  16  36  64 100]\n",
      "[0 0 0 0 0]\n"
     ]
    }
   ],
   "source": [
    "print(H - 2)\n",
    "print(H + 2)\n",
    "print(H / 2)\n",
    "print(H * 2)\n",
    "print(H**2)\n",
    "print(H%2)"
   ]
  },
  {
   "cell_type": "code",
   "execution_count": 144,
   "metadata": {},
   "outputs": [
    {
     "name": "stdout",
     "output_type": "stream",
     "text": [
      "[1 2 3 4 5 6]\n",
      "[1 2 1 3 1 4]\n"
     ]
    }
   ],
   "source": [
    "#create two arrays T1 and T2\n",
    "T1 = np.array([1,2,3,4,5,6])\n",
    "T2 = np.array([1,2,1,3,1,4])\n",
    "print(T1)\n",
    "print(T2)"
   ]
  },
  {
   "cell_type": "code",
   "execution_count": 150,
   "metadata": {},
   "outputs": [
    {
     "name": "stdout",
     "output_type": "stream",
     "text": [
      "[ 2  4  4  7  6 10]\n",
      "[ 1  4  3 12  5 24]\n",
      "[1.         1.         3.         1.33333333 5.         1.5       ]\n",
      "[0 0 0 1 0 2]\n",
      "[   1    4    3   64    5 1296]\n",
      "[ 0.84147098  0.90929743  0.14112001 -0.7568025  -0.95892427 -0.2794155 ]\n"
     ]
    }
   ],
   "source": [
    "print(T1+T2)\n",
    "print(T1*T2)\n",
    "print(T1/T2)\n",
    "print(T1%T2)\n",
    "print(T1**T2)\n",
    "print(np.sin(T1))"
   ]
  },
  {
   "cell_type": "markdown",
   "metadata": {},
   "source": [
    "#### LInear Algebra\n",
    "[Click For More](https://numpy.org/doc/stable/reference/routines.linalg.html?highlight=linear%20algebra)"
   ]
  },
  {
   "cell_type": "code",
   "execution_count": 151,
   "metadata": {},
   "outputs": [
    {
     "name": "stdout",
     "output_type": "stream",
     "text": [
      "[[1. 1. 1.]\n",
      " [1. 1. 1.]]\n",
      "[[1. 1. 1.]\n",
      " [1. 1. 1.]]\n",
      "[[6. 6.]\n",
      " [6. 6.]]\n",
      "[[6. 6.]\n",
      " [6. 6.]]\n"
     ]
    }
   ],
   "source": [
    "#create two matrices M1 and M2\n",
    "M1 = np.ones((2,3))\n",
    "print(M1)\n",
    "\n",
    "M2 = np.full((3,2),2)\n",
    "print(M1)\n",
    "\n",
    "#dot() and matmul() give the same result\n",
    "print(np.matmul(M1,M2))\n",
    "print(M1.dot(M2))"
   ]
  },
  {
   "cell_type": "code",
   "execution_count": 159,
   "metadata": {},
   "outputs": [
    {
     "data": {
      "text/plain": [
       "-20.99999999999999"
      ]
     },
     "execution_count": 159,
     "metadata": {},
     "output_type": "execute_result"
    }
   ],
   "source": [
    "#create a square matrix M3\n",
    "M3 = np.array([[1,2,3],[3,5,6],[7,3,9]])\n",
    "\n",
    "#find the determinant of M3\n",
    "np.linalg.det(M3)"
   ]
  },
  {
   "cell_type": "code",
   "execution_count": 160,
   "metadata": {},
   "outputs": [],
   "source": [
    "#for more on linear Algebra click on the link above"
   ]
  },
  {
   "cell_type": "markdown",
   "metadata": {},
   "source": [
    "#### Statistics\n",
    "[Click For More](https://numpy.org/doc/stable/reference/routines.statistics.html?highlight=statistic)"
   ]
  },
  {
   "cell_type": "code",
   "execution_count": 162,
   "metadata": {},
   "outputs": [
    {
     "name": "stdout",
     "output_type": "stream",
     "text": [
      "1.0\n",
      "1.0\n",
      "6.0\n"
     ]
    }
   ],
   "source": [
    "print(np.min(M1))\n",
    "print(np.max(M1))\n",
    "print(np.sum(M1))"
   ]
  },
  {
   "cell_type": "code",
   "execution_count": 164,
   "metadata": {},
   "outputs": [
    {
     "name": "stdout",
     "output_type": "stream",
     "text": [
      "[1. 1. 1.]\n",
      "[1. 1. 1.]\n",
      "[2. 2. 2.]\n",
      "[1. 1.]\n",
      "[1. 1.]\n",
      "[3. 3.]\n"
     ]
    }
   ],
   "source": [
    "print(np.min(M1, axis=0))\n",
    "print(np.max(M1, axis=0))\n",
    "print(np.sum(M1, axis=0))\n",
    "print(np.min(M1, axis=1))\n",
    "print(np.max(M1, axis=1))\n",
    "print(np.sum(M1, axis=1))"
   ]
  },
  {
   "cell_type": "code",
   "execution_count": 165,
   "metadata": {},
   "outputs": [],
   "source": [
    "#for more use the link above"
   ]
  },
  {
   "cell_type": "markdown",
   "metadata": {},
   "source": [
    "#### Reorganizing Arrays\n",
    "[Click For More on Reshape()](https://numpy.org/doc/stable/reference/generated/numpy.reshape.html#numpy.reshape)"
   ]
  },
  {
   "cell_type": "code",
   "execution_count": 178,
   "metadata": {},
   "outputs": [
    {
     "name": "stdout",
     "output_type": "stream",
     "text": [
      "[[1 2 3 4]\n",
      " [5 6 7 8]]\n",
      "(2, 4)\n",
      "[[[1 2]\n",
      "  [3 4]]\n",
      "\n",
      " [[5 6]\n",
      "  [7 8]]]\n",
      "(2, 2, 2)\n"
     ]
    }
   ],
   "source": [
    "#change shape of M4 and save into M5\n",
    "M4 = np.array([[1,2,3,4],[5,6,7,8]])\n",
    "print(M4)\n",
    "print(M4.shape)\n",
    "\n",
    "M5 = M4.reshape((2,2,2))\n",
    "print(M5)\n",
    "print(M5.shape)"
   ]
  },
  {
   "cell_type": "code",
   "execution_count": 181,
   "metadata": {},
   "outputs": [
    {
     "name": "stdout",
     "output_type": "stream",
     "text": [
      "[[1 2 3]\n",
      " [3 5 6]\n",
      " [7 3 9]]\n",
      "(3, 3)\n",
      "[[[1 2 3 3 5 6 7 3 9]]]\n",
      "(1, 1, 9)\n"
     ]
    }
   ],
   "source": [
    "#change shape of M3 and save into M6\n",
    "print(M3)\n",
    "print(M3.shape)\n",
    "\n",
    "M6 = M3.reshape((1,1,9))\n",
    "print(M6)\n",
    "print(M6.shape)"
   ]
  },
  {
   "cell_type": "code",
   "execution_count": 182,
   "metadata": {},
   "outputs": [
    {
     "data": {
      "text/plain": [
       "array([[5, 6, 7, 8],\n",
       "       [1, 2, 3, 4],\n",
       "       [1, 2, 3, 4],\n",
       "       [5, 6, 7, 8]])"
      ]
     },
     "execution_count": 182,
     "metadata": {},
     "output_type": "execute_result"
    }
   ],
   "source": [
    "#vertically stacking vectors\n",
    "M7 = np.array([1,2,3,4])\n",
    "M8 = np.array([5,6,7,8])\n",
    "\n",
    "np.vstack([M8,M7,M7,M8])"
   ]
  },
  {
   "cell_type": "code",
   "execution_count": 183,
   "metadata": {},
   "outputs": [
    {
     "data": {
      "text/plain": [
       "array([1, 2, 3, 4, 5, 6, 7, 8])"
      ]
     },
     "execution_count": 183,
     "metadata": {},
     "output_type": "execute_result"
    }
   ],
   "source": [
    "#horizontal stacking \n",
    "M7 = np.array([1,2,3,4])\n",
    "M8 = np.array([5,6,7,8])\n",
    "\n",
    "np.hstack([M7,M8])"
   ]
  },
  {
   "cell_type": "code",
   "execution_count": null,
   "metadata": {},
   "outputs": [],
   "source": []
  }
 ],
 "metadata": {
  "kernelspec": {
   "display_name": "Python 3",
   "language": "python",
   "name": "python3"
  },
  "language_info": {
   "codemirror_mode": {
    "name": "ipython",
    "version": 3
   },
   "file_extension": ".py",
   "mimetype": "text/x-python",
   "name": "python",
   "nbconvert_exporter": "python",
   "pygments_lexer": "ipython3",
   "version": "3.8.3"
  }
 },
 "nbformat": 4,
 "nbformat_minor": 4
}
