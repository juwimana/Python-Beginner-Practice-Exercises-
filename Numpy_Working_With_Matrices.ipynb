{
  "nbformat": 4,
  "nbformat_minor": 0,
  "metadata": {
    "colab": {
      "name": "Numpy_Working_With_Matrices.ipynb",
      "provenance": [],
      "authorship_tag": "ABX9TyPgvVT7XzAuA9Cz60VbR+XX",
      "include_colab_link": true
    },
    "kernelspec": {
      "name": "python3",
      "display_name": "Python 3"
    }
  },
  "cells": [
    {
      "cell_type": "markdown",
      "metadata": {
        "id": "view-in-github",
        "colab_type": "text"
      },
      "source": [
        "<a href=\"https://colab.research.google.com/github/juwimana/Python-Beginner-Practice-Exercises-/blob/main/Numpy_Working_With_Matrices.ipynb\" target=\"_parent\"><img src=\"https://colab.research.google.com/assets/colab-badge.svg\" alt=\"Open In Colab\"/></a>"
      ]
    },
    {
      "cell_type": "markdown",
      "metadata": {
        "id": "QNTm_3656bwo"
      },
      "source": [
        "# Create a Matrix\n",
        "* import numpy \n",
        "* create matrix A\n",
        "* check the type of A using type() method\n",
        "* use shape to check the dimensions of matrix A (A.shape)\n",
        "* find the lenght of matrix A (len(A))"
      ]
    },
    {
      "cell_type": "code",
      "metadata": {
        "id": "RvMrFP5x39pQ"
      },
      "source": [
        "#import numpy\n",
        "import numpy as np"
      ],
      "execution_count": 1,
      "outputs": []
    },
    {
      "cell_type": "code",
      "metadata": {
        "id": "pFPetJS74Jv5",
        "outputId": "9d6708fa-6d47-45cf-bc59-1dc9e97a2993",
        "colab": {
          "base_uri": "https://localhost:8080/",
          "height": 69
        }
      },
      "source": [
        "#creating a 3*2 matrix (a 2-dimensional array)\n",
        "A = np.array([[1,2],[3,4],[5,6]])\n",
        "A"
      ],
      "execution_count": 17,
      "outputs": [
        {
          "output_type": "execute_result",
          "data": {
            "text/plain": [
              "array([[1, 2],\n",
              "       [3, 4],\n",
              "       [5, 6]])"
            ]
          },
          "metadata": {
            "tags": []
          },
          "execution_count": 17
        }
      ]
    },
    {
      "cell_type": "code",
      "metadata": {
        "id": "szGeTCDl4atO",
        "outputId": "3f0d81aa-7011-46ed-b8b4-b78292f086cf",
        "colab": {
          "base_uri": "https://localhost:8080/",
          "height": 35
        }
      },
      "source": [
        "#checking type of A\n",
        "type(A)"
      ],
      "execution_count": 3,
      "outputs": [
        {
          "output_type": "execute_result",
          "data": {
            "text/plain": [
              "numpy.ndarray"
            ]
          },
          "metadata": {
            "tags": []
          },
          "execution_count": 3
        }
      ]
    },
    {
      "cell_type": "code",
      "metadata": {
        "id": "T7RfV59p4f1p",
        "outputId": "0a0a03da-e851-4537-a9d1-e43ab88df8ed",
        "colab": {
          "base_uri": "https://localhost:8080/",
          "height": 35
        }
      },
      "source": [
        "#The shape of an array tells us the number of values for each dimension\n",
        "A.shape\n",
        "#We can see from the result that A has 3 rows and 2 columns"
      ],
      "execution_count": 4,
      "outputs": [
        {
          "output_type": "execute_result",
          "data": {
            "text/plain": [
              "(3, 2)"
            ]
          },
          "metadata": {
            "tags": []
          },
          "execution_count": 4
        }
      ]
    },
    {
      "cell_type": "code",
      "metadata": {
        "id": "Ee6tWwjv4nfa",
        "outputId": "ad4a55aa-d6fc-4de8-98ac-22abb8b430ea",
        "colab": {
          "base_uri": "https://localhost:8080/",
          "height": 35
        }
      },
      "source": [
        "#The length of the array \n",
        "len(A)"
      ],
      "execution_count": 6,
      "outputs": [
        {
          "output_type": "execute_result",
          "data": {
            "text/plain": [
              "3"
            ]
          },
          "metadata": {
            "tags": []
          },
          "execution_count": 6
        }
      ]
    },
    {
      "cell_type": "markdown",
      "metadata": {
        "id": "Ssb4Mk0d6hWQ"
      },
      "source": [
        "# Matrix Transpose\n",
        "* use transpose() method OR A.T to find the transpose of matrix A\n",
        "* use shape to find the dimensions of the transposed matrix"
      ]
    },
    {
      "cell_type": "code",
      "metadata": {
        "id": "hUeUgf6w48Kw",
        "outputId": "479f6b30-1064-48d2-b3e9-3b882fd4c7cf",
        "colab": {
          "base_uri": "https://localhost:8080/",
          "height": 104
        }
      },
      "source": [
        "#we can transpose a matrix by using the transpose() method of numpy.ndarray object\n",
        "A_transpose = A.transpose()\n",
        "print(A_T)\n",
        "\n",
        "#OR you can use A.T to get same result\n",
        "print(\"\\n {}\".format(A.T))"
      ],
      "execution_count": 12,
      "outputs": [
        {
          "output_type": "stream",
          "text": [
            "[[1 3 5]\n",
            " [2 4 6]]\n",
            "\n",
            " [[1 3 5]\n",
            " [2 4 6]]\n"
          ],
          "name": "stdout"
        }
      ]
    },
    {
      "cell_type": "code",
      "metadata": {
        "id": "S2N5Jhd15eWN",
        "outputId": "1e024b06-490e-44a9-9bb2-681eab068d64",
        "colab": {
          "base_uri": "https://localhost:8080/",
          "height": 35
        }
      },
      "source": [
        "#shape should give the new dimensions of A transposed\n",
        "A_T.shape"
      ],
      "execution_count": 13,
      "outputs": [
        {
          "output_type": "execute_result",
          "data": {
            "text/plain": [
              "(2, 3)"
            ]
          },
          "metadata": {
            "tags": []
          },
          "execution_count": 13
        }
      ]
    },
    {
      "cell_type": "markdown",
      "metadata": {
        "id": "pAuMkSI16lmQ"
      },
      "source": [
        "# Matrix Addition\n",
        "* Numpy can handle operations on arrays of different shapes. \n",
        "* A smaller array will be extended to match the shape of a bigger one. This is called broadcasting\n",
        "* For example, when adding a scalar to a matrix, the scalar is converted to an array of the same dimension of the Matrix (check code below for **D = C + 5**)"
      ]
    },
    {
      "cell_type": "code",
      "metadata": {
        "id": "VYu58D2m6Sch",
        "outputId": "cf309196-dc47-4442-db6e-2af4387435ec",
        "colab": {
          "base_uri": "https://localhost:8080/",
          "height": 69
        }
      },
      "source": [
        "#define new matrix B \n",
        "B =  np.array([[2, 5], [7, 4], [4, 3]])\n",
        "B"
      ],
      "execution_count": 14,
      "outputs": [
        {
          "output_type": "execute_result",
          "data": {
            "text/plain": [
              "array([[2, 5],\n",
              "       [7, 4],\n",
              "       [4, 3]])"
            ]
          },
          "metadata": {
            "tags": []
          },
          "execution_count": 14
        }
      ]
    },
    {
      "cell_type": "code",
      "metadata": {
        "id": "htQIjLYX-XWu",
        "outputId": "7aebd313-8113-4d2a-83fa-74e67b74c2bb",
        "colab": {
          "base_uri": "https://localhost:8080/",
          "height": 35
        }
      },
      "source": [
        "#find shape of B\n",
        "B.shape"
      ],
      "execution_count": 22,
      "outputs": [
        {
          "output_type": "execute_result",
          "data": {
            "text/plain": [
              "(3, 2)"
            ]
          },
          "metadata": {
            "tags": []
          },
          "execution_count": 22
        }
      ]
    },
    {
      "cell_type": "code",
      "metadata": {
        "id": "QQV5rBX960qh",
        "outputId": "5c3d99aa-3c06-48ae-f99c-861ea8bff6f0",
        "colab": {
          "base_uri": "https://localhost:8080/",
          "height": 69
        }
      },
      "source": [
        "#Add B to A to get C = A + B\n",
        "C = A + B\n",
        "C"
      ],
      "execution_count": 16,
      "outputs": [
        {
          "output_type": "execute_result",
          "data": {
            "text/plain": [
              "array([[ 3,  7],\n",
              "       [10,  8],\n",
              "       [ 9,  9]])"
            ]
          },
          "metadata": {
            "tags": []
          },
          "execution_count": 16
        }
      ]
    },
    {
      "cell_type": "code",
      "metadata": {
        "id": "rEbmWKgr687C",
        "outputId": "c78573fd-91fa-4eed-ecaa-e6a4fc2f5b0b",
        "colab": {
          "base_uri": "https://localhost:8080/",
          "height": 69
        }
      },
      "source": [
        "#you can a scalar value to a matrix\n",
        "#add 4 to C to get D = C + 5 (each cell of C is increased by 5)\n",
        "D = C + 5\n",
        "D"
      ],
      "execution_count": 18,
      "outputs": [
        {
          "output_type": "execute_result",
          "data": {
            "text/plain": [
              "array([[ 8, 12],\n",
              "       [15, 13],\n",
              "       [14, 14]])"
            ]
          },
          "metadata": {
            "tags": []
          },
          "execution_count": 18
        }
      ]
    },
    {
      "cell_type": "markdown",
      "metadata": {
        "id": "5yTGwgLu8idi"
      },
      "source": [
        "# Matrix Multiplication\n",
        "* A matrix product is also called a dot product\n",
        "* use dot() function in numpy to find the dot product of matrix A and matrix D save as matrix M \n",
        "* AB != BA\n",
        "* Matrix multiplication is only possible when the dimensions of the two matrices have the same number of rows and columns i.e. A has dimensions (m,n) and D has dimensions (n,k)\n",
        "* The result will be matrix M with dimensions (m,k)"
      ]
    },
    {
      "cell_type": "code",
      "metadata": {
        "id": "gQiawKJl-mn1",
        "outputId": "8dba7fae-cc73-4889-9e1e-43b99b1a642a",
        "colab": {
          "base_uri": "https://localhost:8080/",
          "height": 52
        }
      },
      "source": [
        "#create matrix D\n",
        "D = B.T\n",
        "D"
      ],
      "execution_count": 23,
      "outputs": [
        {
          "output_type": "execute_result",
          "data": {
            "text/plain": [
              "array([[2, 7, 4],\n",
              "       [5, 4, 3]])"
            ]
          },
          "metadata": {
            "tags": []
          },
          "execution_count": 23
        }
      ]
    },
    {
      "cell_type": "code",
      "metadata": {
        "id": "48p0Fse0-tAS",
        "outputId": "a1059f16-e5fc-4abf-e4a5-c82690295966",
        "colab": {
          "base_uri": "https://localhost:8080/",
          "height": 35
        }
      },
      "source": [
        "#check shape of D\n",
        "D.shape"
      ],
      "execution_count": 24,
      "outputs": [
        {
          "output_type": "execute_result",
          "data": {
            "text/plain": [
              "(2, 3)"
            ]
          },
          "metadata": {
            "tags": []
          },
          "execution_count": 24
        }
      ]
    },
    {
      "cell_type": "code",
      "metadata": {
        "id": "NgxBLc6E7g_v",
        "outputId": "bdb0d4f5-a821-4220-bc71-55e681736356",
        "colab": {
          "base_uri": "https://localhost:8080/",
          "height": 139
        }
      },
      "source": [
        "#using np.dot(A,D)\n",
        "M = np.dot(A,D)\n",
        "print(M)\n",
        "\n",
        "#using A.dot(D)\n",
        "M = A.dot(D)\n",
        "print(\"\\n {}\".format(M))"
      ],
      "execution_count": 26,
      "outputs": [
        {
          "output_type": "stream",
          "text": [
            "[[12 15 10]\n",
            " [26 37 24]\n",
            " [40 59 38]]\n",
            "\n",
            " [[12 15 10]\n",
            " [26 37 24]\n",
            " [40 59 38]]\n"
          ],
          "name": "stdout"
        }
      ]
    },
    {
      "cell_type": "code",
      "metadata": {
        "id": "tO8BbCfL994X",
        "outputId": "c96f4ec3-659f-4bbd-ed79-4a0cd5a37d5b",
        "colab": {
          "base_uri": "https://localhost:8080/",
          "height": 35
        }
      },
      "source": [
        "#check shape of D; should be A(3,2), D(2,3) therefore M(3,3)\n",
        "M.shape"
      ],
      "execution_count": 27,
      "outputs": [
        {
          "output_type": "execute_result",
          "data": {
            "text/plain": [
              "(3, 3)"
            ]
          },
          "metadata": {
            "tags": []
          },
          "execution_count": 27
        }
      ]
    },
    {
      "cell_type": "markdown",
      "metadata": {
        "id": "2vKwreqvAPT0"
      },
      "source": [
        "# Identity Matrix\n",
        "* identity matrix (denote **I**)is a diagonal, square matrix with ones on the main diagonal, and zeros on the off diagonal\n",
        "* numpy function eye() is used to create an identity matrix; eye() takes an argument which represents the dimension of the square matrix. \n",
        "* For example, np.eye(3) creates a 3x3 identity matrix\n",
        "*  the identity matrix is that it is commutative, associative, and\n",
        "distributive with respect to multiplication\n",
        "* the product of an identity matrix with another matrix returns the same matrix **(AI = IA = A)**"
      ]
    },
    {
      "cell_type": "code",
      "metadata": {
        "id": "4xpFeLQYAHnM",
        "outputId": "ffbc504e-a890-4c79-b9bd-b3900235c1f9",
        "colab": {
          "base_uri": "https://localhost:8080/",
          "height": 69
        }
      },
      "source": [
        "#create an identity matrix\n",
        "I = np.eye(3)\n",
        "I"
      ],
      "execution_count": 32,
      "outputs": [
        {
          "output_type": "execute_result",
          "data": {
            "text/plain": [
              "array([[1., 0., 0.],\n",
              "       [0., 1., 0.],\n",
              "       [0., 0., 1.]])"
            ]
          },
          "metadata": {
            "tags": []
          },
          "execution_count": 32
        }
      ]
    },
    {
      "cell_type": "code",
      "metadata": {
        "id": "U6vxGd8TA3xp",
        "outputId": "d6521406-9307-4fe7-bb23-cb62bb5ba5ca",
        "colab": {
          "base_uri": "https://localhost:8080/",
          "height": 35
        }
      },
      "source": [
        "#find shape of I\n",
        "I.shape"
      ],
      "execution_count": 33,
      "outputs": [
        {
          "output_type": "execute_result",
          "data": {
            "text/plain": [
              "(3, 3)"
            ]
          },
          "metadata": {
            "tags": []
          },
          "execution_count": 33
        }
      ]
    },
    {
      "cell_type": "code",
      "metadata": {
        "id": "C6lVADDOBePG",
        "outputId": "8796f444-2bfb-457f-f154-486b10815ec1",
        "colab": {
          "base_uri": "https://localhost:8080/",
          "height": 69
        }
      },
      "source": [
        "#sot product of I and M\n",
        "MI = I.dot(M)\n",
        "MI"
      ],
      "execution_count": 35,
      "outputs": [
        {
          "output_type": "execute_result",
          "data": {
            "text/plain": [
              "array([[12., 15., 10.],\n",
              "       [26., 37., 24.],\n",
              "       [40., 59., 38.]])"
            ]
          },
          "metadata": {
            "tags": []
          },
          "execution_count": 35
        }
      ]
    },
    {
      "cell_type": "markdown",
      "metadata": {
        "id": "J8KIJD7-CNsf"
      },
      "source": [
        "# Determinant of a Matrix\n",
        "* we need the numpy.linalg module to compute the determinant of a matrix\n",
        "* determinant can only be computed on square matrices (n,n)\n",
        "* if the determinant of a matrix equals zero, then the matrix is said to be singular, or not invertable (for example matrix M)\n",
        "* if the determinant of A is non-zero, then A is said to be nonsingular, or invertable (for example matrix P)"
      ]
    },
    {
      "cell_type": "code",
      "metadata": {
        "id": "A_wINBfECIXJ",
        "outputId": "7d1dafb2-96cc-4f99-83bd-36afc946c158",
        "colab": {
          "base_uri": "https://localhost:8080/",
          "height": 35
        }
      },
      "source": [
        "print(A.shape,B.shape,C.shape,D.shape,M.shape)"
      ],
      "execution_count": 45,
      "outputs": [
        {
          "output_type": "stream",
          "text": [
            "(3, 2) (3, 2) (3, 2) (2, 3) (3, 3)\n"
          ],
          "name": "stdout"
        }
      ]
    },
    {
      "cell_type": "code",
      "metadata": {
        "id": "0k8AUkQhC24i",
        "outputId": "4790acb6-4bcb-49f7-c045-49ce79dc301e",
        "colab": {
          "base_uri": "https://localhost:8080/",
          "height": 35
        }
      },
      "source": [
        "#compute the determinant of M since its the only square matrix we have (3,3)\n",
        "det_M = np.linalg.det(M) \n",
        "det_M"
      ],
      "execution_count": 46,
      "outputs": [
        {
          "output_type": "execute_result",
          "data": {
            "text/plain": [
              "0.0"
            ]
          },
          "metadata": {
            "tags": []
          },
          "execution_count": 46
        }
      ]
    },
    {
      "cell_type": "code",
      "metadata": {
        "id": "GwxQpFJtDRcU",
        "outputId": "ecf6d4aa-eab5-4705-c7d8-66c6322eebfc",
        "colab": {
          "base_uri": "https://localhost:8080/",
          "height": 104
        }
      },
      "source": [
        "#create a new matrix P \n",
        "P = np.array([[1,2,3],[5,3,1],[10,4,1]])\n",
        "print(P)\n",
        "print(\"\\n {}\".format(P.shape))"
      ],
      "execution_count": 53,
      "outputs": [
        {
          "output_type": "stream",
          "text": [
            "[[ 1  2  3]\n",
            " [ 5  3  1]\n",
            " [10  4  1]]\n",
            "\n",
            " (3, 3)\n"
          ],
          "name": "stdout"
        }
      ]
    },
    {
      "cell_type": "code",
      "metadata": {
        "id": "5TR_GcE8ETdz",
        "outputId": "26d7d660-e2f0-4528-dc60-7c74c1835cd3",
        "colab": {
          "base_uri": "https://localhost:8080/",
          "height": 35
        }
      },
      "source": [
        "#find determinant of P since its a square matrix\n",
        "det_P = np.linalg.det(P)\n",
        "det_P"
      ],
      "execution_count": 68,
      "outputs": [
        {
          "output_type": "execute_result",
          "data": {
            "text/plain": [
              "-21.0"
            ]
          },
          "metadata": {
            "tags": []
          },
          "execution_count": 68
        }
      ]
    },
    {
      "cell_type": "markdown",
      "metadata": {
        "id": "flRZklSSFbLv"
      },
      "source": [
        "# Inverse Matrix\n",
        "* the inverse of a matrix A is the matrix that results in the identity matrix when multiplied by A \n",
        "* use the numpy function linalg.inv() to calculate the inverse of a matrix\n",
        "* The inverse of a matrix is only possible on square matrices (n,n)"
      ]
    },
    {
      "cell_type": "code",
      "metadata": {
        "id": "G3XtVCWsEq-u",
        "outputId": "b558bebb-f4c7-41e0-de41-5ada5d793c6f",
        "colab": {
          "base_uri": "https://localhost:8080/",
          "height": 104
        }
      },
      "source": [
        "#find the inverse of P \n",
        "inv_P = np.linalg.inv(P)\n",
        "print(np.round(inv_P))\n",
        "print(\"\\n {}\".format(inv_P.shape))"
      ],
      "execution_count": 66,
      "outputs": [
        {
          "output_type": "stream",
          "text": [
            "[[ 0. -0.  0.]\n",
            " [-0.  1. -1.]\n",
            " [ 0. -1.  0.]]\n",
            "\n",
            " (3, 3)\n"
          ],
          "name": "stdout"
        }
      ]
    },
    {
      "cell_type": "code",
      "metadata": {
        "id": "WFRgCHAbG5cb",
        "outputId": "0fd8fc29-0df9-43d3-cb6b-f70b0e54506c",
        "colab": {
          "base_uri": "https://localhost:8080/",
          "height": 69
        }
      },
      "source": [
        "#check that our inverse is correct\n",
        "I = np.round(inv_P.dot(P))\n",
        "I"
      ],
      "execution_count": 67,
      "outputs": [
        {
          "output_type": "execute_result",
          "data": {
            "text/plain": [
              "array([[ 1.,  0.,  0.],\n",
              "       [-0.,  1., -0.],\n",
              "       [ 0.,  0.,  1.]])"
            ]
          },
          "metadata": {
            "tags": []
          },
          "execution_count": 67
        }
      ]
    },
    {
      "cell_type": "code",
      "metadata": {
        "id": "lRHezjQYGnBv",
        "outputId": "6d2fd0c7-fe93-4f7e-b4b0-86e5d49fa687",
        "colab": {
          "base_uri": "https://localhost:8080/",
          "height": 381
        }
      },
      "source": [
        "#matrix M has no inverse since the determinant is zero. We get an LinAlgErrot that M is singular (not invertible)\n",
        "inv_M = np.linalg.inv(M)\n",
        "print(inv_M)"
      ],
      "execution_count": 57,
      "outputs": [
        {
          "output_type": "error",
          "ename": "LinAlgError",
          "evalue": "ignored",
          "traceback": [
            "\u001b[0;31m---------------------------------------------------------------------------\u001b[0m",
            "\u001b[0;31mLinAlgError\u001b[0m                               Traceback (most recent call last)",
            "\u001b[0;32m<ipython-input-57-33c47d5d4cd9>\u001b[0m in \u001b[0;36m<module>\u001b[0;34m()\u001b[0m\n\u001b[1;32m      1\u001b[0m \u001b[0;31m#matrix M has no inverse since the determinant is zero\u001b[0m\u001b[0;34m\u001b[0m\u001b[0;34m\u001b[0m\u001b[0;34m\u001b[0m\u001b[0m\n\u001b[0;32m----> 2\u001b[0;31m \u001b[0minv_M\u001b[0m \u001b[0;34m=\u001b[0m \u001b[0mnp\u001b[0m\u001b[0;34m.\u001b[0m\u001b[0mlinalg\u001b[0m\u001b[0;34m.\u001b[0m\u001b[0minv\u001b[0m\u001b[0;34m(\u001b[0m\u001b[0mM\u001b[0m\u001b[0;34m)\u001b[0m\u001b[0;34m\u001b[0m\u001b[0;34m\u001b[0m\u001b[0m\n\u001b[0m\u001b[1;32m      3\u001b[0m \u001b[0mprint\u001b[0m\u001b[0;34m(\u001b[0m\u001b[0minv_M\u001b[0m\u001b[0;34m)\u001b[0m\u001b[0;34m\u001b[0m\u001b[0;34m\u001b[0m\u001b[0m\n",
            "\u001b[0;32m<__array_function__ internals>\u001b[0m in \u001b[0;36minv\u001b[0;34m(*args, **kwargs)\u001b[0m\n",
            "\u001b[0;32m/usr/local/lib/python3.6/dist-packages/numpy/linalg/linalg.py\u001b[0m in \u001b[0;36minv\u001b[0;34m(a)\u001b[0m\n\u001b[1;32m    545\u001b[0m     \u001b[0msignature\u001b[0m \u001b[0;34m=\u001b[0m \u001b[0;34m'D->D'\u001b[0m \u001b[0;32mif\u001b[0m \u001b[0misComplexType\u001b[0m\u001b[0;34m(\u001b[0m\u001b[0mt\u001b[0m\u001b[0;34m)\u001b[0m \u001b[0;32melse\u001b[0m \u001b[0;34m'd->d'\u001b[0m\u001b[0;34m\u001b[0m\u001b[0;34m\u001b[0m\u001b[0m\n\u001b[1;32m    546\u001b[0m     \u001b[0mextobj\u001b[0m \u001b[0;34m=\u001b[0m \u001b[0mget_linalg_error_extobj\u001b[0m\u001b[0;34m(\u001b[0m\u001b[0m_raise_linalgerror_singular\u001b[0m\u001b[0;34m)\u001b[0m\u001b[0;34m\u001b[0m\u001b[0;34m\u001b[0m\u001b[0m\n\u001b[0;32m--> 547\u001b[0;31m     \u001b[0mainv\u001b[0m \u001b[0;34m=\u001b[0m \u001b[0m_umath_linalg\u001b[0m\u001b[0;34m.\u001b[0m\u001b[0minv\u001b[0m\u001b[0;34m(\u001b[0m\u001b[0ma\u001b[0m\u001b[0;34m,\u001b[0m \u001b[0msignature\u001b[0m\u001b[0;34m=\u001b[0m\u001b[0msignature\u001b[0m\u001b[0;34m,\u001b[0m \u001b[0mextobj\u001b[0m\u001b[0;34m=\u001b[0m\u001b[0mextobj\u001b[0m\u001b[0;34m)\u001b[0m\u001b[0;34m\u001b[0m\u001b[0;34m\u001b[0m\u001b[0m\n\u001b[0m\u001b[1;32m    548\u001b[0m     \u001b[0;32mreturn\u001b[0m \u001b[0mwrap\u001b[0m\u001b[0;34m(\u001b[0m\u001b[0mainv\u001b[0m\u001b[0;34m.\u001b[0m\u001b[0mastype\u001b[0m\u001b[0;34m(\u001b[0m\u001b[0mresult_t\u001b[0m\u001b[0;34m,\u001b[0m \u001b[0mcopy\u001b[0m\u001b[0;34m=\u001b[0m\u001b[0;32mFalse\u001b[0m\u001b[0;34m)\u001b[0m\u001b[0;34m)\u001b[0m\u001b[0;34m\u001b[0m\u001b[0;34m\u001b[0m\u001b[0m\n\u001b[1;32m    549\u001b[0m \u001b[0;34m\u001b[0m\u001b[0m\n",
            "\u001b[0;32m/usr/local/lib/python3.6/dist-packages/numpy/linalg/linalg.py\u001b[0m in \u001b[0;36m_raise_linalgerror_singular\u001b[0;34m(err, flag)\u001b[0m\n\u001b[1;32m     95\u001b[0m \u001b[0;34m\u001b[0m\u001b[0m\n\u001b[1;32m     96\u001b[0m \u001b[0;32mdef\u001b[0m \u001b[0m_raise_linalgerror_singular\u001b[0m\u001b[0;34m(\u001b[0m\u001b[0merr\u001b[0m\u001b[0;34m,\u001b[0m \u001b[0mflag\u001b[0m\u001b[0;34m)\u001b[0m\u001b[0;34m:\u001b[0m\u001b[0;34m\u001b[0m\u001b[0;34m\u001b[0m\u001b[0m\n\u001b[0;32m---> 97\u001b[0;31m     \u001b[0;32mraise\u001b[0m \u001b[0mLinAlgError\u001b[0m\u001b[0;34m(\u001b[0m\u001b[0;34m\"Singular matrix\"\u001b[0m\u001b[0;34m)\u001b[0m\u001b[0;34m\u001b[0m\u001b[0;34m\u001b[0m\u001b[0m\n\u001b[0m\u001b[1;32m     98\u001b[0m \u001b[0;34m\u001b[0m\u001b[0m\n\u001b[1;32m     99\u001b[0m \u001b[0;32mdef\u001b[0m \u001b[0m_raise_linalgerror_nonposdef\u001b[0m\u001b[0;34m(\u001b[0m\u001b[0merr\u001b[0m\u001b[0;34m,\u001b[0m \u001b[0mflag\u001b[0m\u001b[0;34m)\u001b[0m\u001b[0;34m:\u001b[0m\u001b[0;34m\u001b[0m\u001b[0;34m\u001b[0m\u001b[0m\n",
            "\u001b[0;31mLinAlgError\u001b[0m: Singular matrix"
          ]
        }
      ]
    }
  ]
}