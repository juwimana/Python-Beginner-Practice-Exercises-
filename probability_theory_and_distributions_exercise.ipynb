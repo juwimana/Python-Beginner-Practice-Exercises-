{
  "nbformat": 4,
  "nbformat_minor": 0,
  "metadata": {
    "kernelspec": {
      "display_name": "Python 3",
      "language": "python",
      "name": "python3"
    },
    "language_info": {
      "codemirror_mode": {
        "name": "ipython",
        "version": 3
      },
      "file_extension": ".py",
      "mimetype": "text/x-python",
      "name": "python",
      "nbconvert_exporter": "python",
      "pygments_lexer": "ipython3",
      "version": "3.7.4"
    },
    "toc": {
      "base_numbering": 1,
      "nav_menu": {},
      "number_sections": true,
      "sideBar": true,
      "skip_h1_title": false,
      "title_cell": "Table of Contents",
      "title_sidebar": "Contents",
      "toc_cell": false,
      "toc_position": {},
      "toc_section_display": true,
      "toc_window_display": false
    },
    "varInspector": {
      "cols": {
        "lenName": 16,
        "lenType": 16,
        "lenVar": 40
      },
      "kernels_config": {
        "python": {
          "delete_cmd_postfix": "",
          "delete_cmd_prefix": "del ",
          "library": "var_list.py",
          "varRefreshCmd": "print(var_dic_list())"
        },
        "r": {
          "delete_cmd_postfix": ") ",
          "delete_cmd_prefix": "rm(",
          "library": "var_list.r",
          "varRefreshCmd": "cat(var_dic_list()) "
        }
      },
      "types_to_exclude": [
        "module",
        "function",
        "builtin_function_or_method",
        "instance",
        "_Feature"
      ],
      "window_display": false
    },
    "colab": {
      "name": "probability_theory_and_distributions_exercise.ipynb",
      "provenance": [],
      "include_colab_link": true
    }
  },
  "cells": [
    {
      "cell_type": "markdown",
      "metadata": {
        "id": "view-in-github",
        "colab_type": "text"
      },
      "source": [
        "<a href=\"https://colab.research.google.com/github/juwimana/Python-Beginner-Practice-Exercises-/blob/main/probability_theory_and_distributions_exercise.ipynb\" target=\"_parent\"><img src=\"https://colab.research.google.com/assets/colab-badge.svg\" alt=\"Open In Colab\"/></a>"
      ]
    },
    {
      "cell_type": "code",
      "metadata": {
        "ExecuteTime": {
          "end_time": "2020-02-05T17:54:42.062131Z",
          "start_time": "2020-02-05T17:54:41.626763Z"
        },
        "id": "jxY_HPZWEamn"
      },
      "source": [
        "# import numpy\n",
        "import numpy as np\n",
        "\n",
        "# import matplotlib.pyplot\n",
        "import matplotlib.pyplot as plt\n",
        "\n",
        "# import Counter\n",
        "from collections import Counter\n",
        "\n",
        "# use style 'fivethirtyeight' (optional)\n",
        "plt.style.use('fivethirtyeight')"
      ],
      "execution_count": 3,
      "outputs": []
    },
    {
      "cell_type": "markdown",
      "metadata": {
        "ExecuteTime": {
          "end_time": "2020-02-05T17:54:42.113199Z",
          "start_time": "2020-02-05T17:54:42.101587Z"
        },
        "id": "SlhR4rSwEam0"
      },
      "source": [
        "#### Create function `perform_bernouli_trial` with parameters n and p\n",
        "\n",
        "PARAMS:\n",
        "- n (int) - number of trials\n",
        "- p (float) - probability of success\n",
        "\n",
        "RETURNS:\n",
        "- n_success (int) - number of successes"
      ]
    },
    {
      "cell_type": "code",
      "metadata": {
        "id": "P_NRZ0fCEam4"
      },
      "source": [
        "def perform_bernouli_trial(n,p):\n",
        "  #initiate n_sucess to zero\n",
        "  n_success = 0 \n",
        "\n",
        "  #perform trials\n",
        "  for i in range(n):\n",
        "    #find a random number between 0 and 1\n",
        "    random_num = np.random.random()\n",
        "\n",
        "    #define success as random_num < p\n",
        "    if random_num < p:\n",
        "      n_success += 1\n",
        "\n",
        "  return n_success"
      ],
      "execution_count": 6,
      "outputs": []
    },
    {
      "cell_type": "markdown",
      "metadata": {
        "ExecuteTime": {
          "end_time": "2020-02-05T17:54:42.610756Z",
          "start_time": "2020-02-05T17:54:42.602316Z"
        },
        "id": "JM0rKpd3EanO"
      },
      "source": [
        "#### Use function `perform_bernoulli_trials` with inputs n = 100, p = 0.5"
      ]
    },
    {
      "cell_type": "code",
      "metadata": {
        "id": "W2c_bsxdEanQ",
        "outputId": "f5b197f1-3f0c-46db-fba8-88bd859f7036",
        "colab": {
          "base_uri": "https://localhost:8080/",
          "height": 35
        }
      },
      "source": [
        "perform_bernouli_trial(100,0.5)"
      ],
      "execution_count": 7,
      "outputs": [
        {
          "output_type": "execute_result",
          "data": {
            "text/plain": [
              "53"
            ]
          },
          "metadata": {
            "tags": []
          },
          "execution_count": 7
        }
      ]
    },
    {
      "cell_type": "markdown",
      "metadata": {
        "ExecuteTime": {
          "end_time": "2020-02-05T17:54:43.020097Z",
          "start_time": "2020-02-05T17:54:42.962800Z"
        },
        "id": "abTLRoFCEan6"
      },
      "source": [
        "#### Call function _perform_bernoulli_trials_ 1000-times with same parameters as before and store the result in `successes_list`"
      ]
    },
    {
      "cell_type": "code",
      "metadata": {
        "id": "ZX2yRWK6Ean8"
      },
      "source": [
        "i =0\n",
        "successes_list = []\n",
        "while i < 1000:\n",
        "  successes_list.append(perform_bernouli_trial(100,0.5))\n",
        "  i = i + 1"
      ],
      "execution_count": 13,
      "outputs": []
    },
    {
      "cell_type": "markdown",
      "metadata": {
        "ExecuteTime": {
          "end_time": "2020-02-05T17:54:43.296477Z",
          "start_time": "2020-02-05T17:54:43.289959Z"
        },
        "id": "7S--0MLhEaoT"
      },
      "source": [
        "#### Count occurence of each number from `successes_list` using Counter and store the result in `count_occurence`\n",
        "\n",
        "You can find for more info about Counter [**here**](https://docs.python.org/2/library/collections.html#collections.Counter)."
      ]
    },
    {
      "cell_type": "code",
      "metadata": {
        "id": "oYVxsxAqEaoV"
      },
      "source": [
        "count_occurence = Counter(successes_list)"
      ],
      "execution_count": 15,
      "outputs": []
    },
    {
      "cell_type": "code",
      "metadata": {
        "id": "1ApBuXc5WeOt",
        "outputId": "3ac904ce-20bd-4478-95b2-af8e362db620",
        "colab": {
          "base_uri": "https://localhost:8080/",
          "height": 572
        }
      },
      "source": [
        "count_occurence"
      ],
      "execution_count": 41,
      "outputs": [
        {
          "output_type": "execute_result",
          "data": {
            "text/plain": [
              "Counter({33: 1,\n",
              "         34: 1,\n",
              "         36: 2,\n",
              "         37: 2,\n",
              "         38: 3,\n",
              "         39: 7,\n",
              "         40: 8,\n",
              "         41: 17,\n",
              "         42: 16,\n",
              "         43: 34,\n",
              "         44: 41,\n",
              "         45: 55,\n",
              "         46: 57,\n",
              "         47: 54,\n",
              "         48: 69,\n",
              "         49: 75,\n",
              "         50: 77,\n",
              "         51: 96,\n",
              "         52: 77,\n",
              "         53: 77,\n",
              "         54: 57,\n",
              "         55: 40,\n",
              "         56: 38,\n",
              "         57: 28,\n",
              "         58: 31,\n",
              "         59: 11,\n",
              "         60: 8,\n",
              "         61: 9,\n",
              "         62: 5,\n",
              "         63: 2,\n",
              "         65: 1,\n",
              "         66: 1})"
            ]
          },
          "metadata": {
            "tags": []
          },
          "execution_count": 41
        }
      ]
    },
    {
      "cell_type": "markdown",
      "metadata": {
        "ExecuteTime": {
          "end_time": "2020-02-05T17:54:43.571225Z",
          "start_time": "2020-02-05T17:54:43.568147Z"
        },
        "id": "H-oAQXZuEaoq"
      },
      "source": [
        "#### Count the probability for each number from `count_occurence` and store the result in `probas`\n"
      ]
    },
    {
      "cell_type": "code",
      "metadata": {
        "id": "8L7g-CepEaot"
      },
      "source": [
        "probas = [val/100 for val in count_occurence.values()]"
      ],
      "execution_count": 48,
      "outputs": []
    },
    {
      "cell_type": "markdown",
      "metadata": {
        "id": "MNCOcZQdEapH"
      },
      "source": [
        "Below you have some information about how to do plots in Python. We will be covering all of this during the bootcamp. But you can find these basics here so we can visualize the distributions."
      ]
    },
    {
      "cell_type": "code",
      "metadata": {
        "ExecuteTime": {
          "end_time": "2020-02-05T17:54:44.056628Z",
          "start_time": "2020-02-05T17:54:43.850076Z"
        },
        "id": "_MnYOIg7EapJ",
        "outputId": "af1d3599-bf2a-48e4-934c-17580a3dcb4e",
        "colab": {
          "base_uri": "https://localhost:8080/",
          "height": 365
        }
      },
      "source": [
        "# plot distribution (PMF) of 'succes_list'\n",
        "plt.scatter(x=count_occurence.keys(), y=probas)\n",
        "plt.xlabel('number of succeess out of 100')\n",
        "plt.ylabel('probability')\n",
        "# Show the plot\n",
        "plt.show()"
      ],
      "execution_count": 49,
      "outputs": [
        {
          "output_type": "display_data",
          "data": {
            "image/png": "[encoded data removed]",
            "text/plain": [
              "<Figure size 720x360 with 1 Axes>"
            ]
          },
          "metadata": {
            "tags": []
          }
        }
      ]
    },
    {
      "cell_type": "markdown",
      "metadata": {
        "ExecuteTime": {
          "end_time": "2020-02-05T17:54:44.112264Z",
          "start_time": "2020-02-05T17:54:44.096570Z"
        },
        "id": "Ilz5lvELEapU"
      },
      "source": [
        "#### Generate 100000 numbers from uniform distribution with parameters a = 1, b = 6\n"
      ]
    },
    {
      "cell_type": "code",
      "metadata": {
        "id": "1twVUIu0EapX"
      },
      "source": [
        "uni_samples = np.random.uniform(1,6,100000)"
      ],
      "execution_count": 27,
      "outputs": []
    },
    {
      "cell_type": "code",
      "metadata": {
        "id": "WFLxtev6RD9n",
        "outputId": "d577e60d-bfda-44af-d291-873ff120c4f2",
        "colab": {
          "base_uri": "https://localhost:8080/",
          "height": 52
        }
      },
      "source": [
        "uni_samples"
      ],
      "execution_count": 28,
      "outputs": [
        {
          "output_type": "execute_result",
          "data": {
            "text/plain": [
              "array([5.70406838, 2.04861044, 5.34582113, ..., 2.89442302, 5.48287292,\n",
              "       1.69605409])"
            ]
          },
          "metadata": {
            "tags": []
          },
          "execution_count": 28
        }
      ]
    },
    {
      "cell_type": "markdown",
      "metadata": {
        "ExecuteTime": {
          "end_time": "2020-02-05T17:54:44.583762Z",
          "start_time": "2020-02-05T17:54:44.555162Z"
        },
        "id": "apA35O5LEaqC"
      },
      "source": [
        "#### Check the mean of uniform data (using NumPy)"
      ]
    },
    {
      "cell_type": "code",
      "metadata": {
        "id": "14D8wY20EaqE",
        "outputId": "31b7021c-cf45-4581-de44-e794baa432ed",
        "colab": {
          "base_uri": "https://localhost:8080/",
          "height": 35
        }
      },
      "source": [
        "uni_mean = np.mean(uni_samples)\n",
        "uni_mean"
      ],
      "execution_count": 22,
      "outputs": [
        {
          "output_type": "execute_result",
          "data": {
            "text/plain": [
              "3.4972950217237155"
            ]
          },
          "metadata": {
            "tags": []
          },
          "execution_count": 22
        }
      ]
    },
    {
      "cell_type": "markdown",
      "metadata": {
        "ExecuteTime": {
          "end_time": "2020-02-05T17:54:44.758510Z",
          "start_time": "2020-02-05T17:54:44.752087Z"
        },
        "id": "JxDy2jL7EaqZ"
      },
      "source": [
        "#### Generate 100000 numbers from exponential distribution with parameter beta = 0.5"
      ]
    },
    {
      "cell_type": "code",
      "metadata": {
        "id": "-bTekROLEaqc"
      },
      "source": [
        "exp_samples = np.random.exponential(0.5, 100000)"
      ],
      "execution_count": 37,
      "outputs": []
    },
    {
      "cell_type": "code",
      "metadata": {
        "id": "x51y1_xSEaqo",
        "outputId": "7ecc9991-f06e-4559-e780-c9c15cd783d3",
        "colab": {
          "base_uri": "https://localhost:8080/",
          "height": 52
        }
      },
      "source": [
        "exp_samples"
      ],
      "execution_count": 38,
      "outputs": [
        {
          "output_type": "execute_result",
          "data": {
            "text/plain": [
              "array([0.05280461, 0.05848122, 0.16326967, ..., 1.28292047, 0.04603416,\n",
              "       0.15117979])"
            ]
          },
          "metadata": {
            "tags": []
          },
          "execution_count": 38
        }
      ]
    },
    {
      "cell_type": "markdown",
      "metadata": {
        "ExecuteTime": {
          "end_time": "2020-02-05T17:54:45.134091Z",
          "start_time": "2020-02-05T17:54:44.956351Z"
        },
        "id": "lXVKxk25Eaqz"
      },
      "source": [
        "#### Plot histogram of exponential distribution with params `density=True`, `bins=100`\n"
      ]
    },
    {
      "cell_type": "code",
      "metadata": {
        "id": "cyhR0s_wEaq1",
        "outputId": "c862dcdf-2a56-49a6-b5be-04e50589d7d7",
        "colab": {
          "base_uri": "https://localhost:8080/",
          "height": 340
        }
      },
      "source": [
        "plt.rcParams['figure.figsize'] = (10,5)\n",
        "plt.hist(exp_samples, density = True, histtype = 'step', bins =100)\n",
        "plt.show()"
      ],
      "execution_count": 39,
      "outputs": [
        {
          "output_type": "display_data",
          "data": {
            "image/png": "[encoded data removed]",
            "text/plain": [
              "<Figure size 720x360 with 1 Axes>"
            ]
          },
          "metadata": {
            "tags": []
          }
        }
      ]
    },
    {
      "cell_type": "markdown",
      "metadata": {
        "ExecuteTime": {
          "end_time": "2020-02-05T17:54:45.187080Z",
          "start_time": "2020-02-05T17:54:45.171406Z"
        },
        "id": "LEKugDQPEarJ"
      },
      "source": [
        "#### Check the mean of exponential data"
      ]
    },
    {
      "cell_type": "code",
      "metadata": {
        "id": "7v8VGl4qEarL",
        "outputId": "30d8c01f-f25b-4b33-d02a-edcfbd28419d",
        "colab": {
          "base_uri": "https://localhost:8080/",
          "height": 35
        }
      },
      "source": [
        "exp_mean = np.mean(exp_samples)\n",
        "exp_mean"
      ],
      "execution_count": 40,
      "outputs": [
        {
          "output_type": "execute_result",
          "data": {
            "text/plain": [
              "0.5005899900281606"
            ]
          },
          "metadata": {
            "tags": []
          },
          "execution_count": 40
        }
      ]
    }
  ]
}