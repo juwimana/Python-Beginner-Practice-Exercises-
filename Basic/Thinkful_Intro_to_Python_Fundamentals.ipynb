{
  "nbformat": 4,
  "nbformat_minor": 0,
  "metadata": {
    "colab": {
      "name": "Copy of Attendee Intro to Python Fundamentals.ipynb",
      "provenance": [],
      "collapsed_sections": [],
      "include_colab_link": true
    },
    "kernelspec": {
      "name": "python3",
      "display_name": "Python 3"
    }
  },
  "cells": [
    {
      "cell_type": "markdown",
      "metadata": {
        "id": "view-in-github",
        "colab_type": "text"
      },
      "source": [
        "<a href=\"https://colab.research.google.com/github/juwimana/Python-Beginner-Practice-Exercises-/blob/main/Thinkful_Intro_to_Python_Fundamentals.ipynb\" target=\"_parent\"><img src=\"https://colab.research.google.com/assets/colab-badge.svg\" alt=\"Open In Colab\"/></a>"
      ]
    },
    {
      "cell_type": "markdown",
      "metadata": {
        "id": "ZTcoWIZfIovw"
      },
      "source": [
        "# Intro to **Python** Fundamentals\n",
        "\n",
        "\n",
        "- Throughout this notebook we will be exploring base Python concepts and applying them in small practice problems.\n",
        "- Anytime you see a line surrounded by triple asterisks, `***LIKE THIS***`, that is a line of code that you will need to replace or edit.\n",
        "- Have fun and good luck coding!"
      ]
    },
    {
      "cell_type": "markdown",
      "metadata": {
        "id": "G5lroUmBm77G"
      },
      "source": [
        "> To execute a line or block of code, simply click the \"Play\" button on the left side or use the keyboard shortcut \"Shift + Enter\"\n",
        "> When that code block has actually been executed, the blank brackets will change to have a number inside of them."
      ]
    },
    {
      "cell_type": "code",
      "metadata": {
        "id": "oW5-mMzgm85H",
        "outputId": "1def5537-0142-476b-e9c2-0455512a65f7",
        "colab": {
          "base_uri": "https://localhost:8080/",
          "height": 35
        }
      },
      "source": [
        "x = 'WELCOME TO PYTHON FUNDAMENTALS'\n",
        "print(x)"
      ],
      "execution_count": 39,
      "outputs": [
        {
          "output_type": "stream",
          "text": [
            "WELCOME TO PYTHON FUNDAMENTALS\n"
          ],
          "name": "stdout"
        }
      ]
    },
    {
      "cell_type": "markdown",
      "metadata": {
        "id": "ulmFmPdbJJ7w"
      },
      "source": [
        "___\n",
        "## First lines of code:\n",
        "Printing `\"Hello, World!\"` and reviewing the Zen of Python are traditionally two of the first tasks for a new Python programmer, so let's do those together here:"
      ]
    },
    {
      "cell_type": "markdown",
      "metadata": {
        "id": "uwUSbA1yKe-H"
      },
      "source": [
        "- We use `print` statements any time we want to display information to the console."
      ]
    },
    {
      "cell_type": "code",
      "metadata": {
        "id": "RaGYNWB2GnYf"
      },
      "source": [
        "print(\"Hello, World!\")"
      ],
      "execution_count": null,
      "outputs": []
    },
    {
      "cell_type": "markdown",
      "metadata": {
        "id": "srpcy_IqKiCN"
      },
      "source": [
        "- The Zen of Python is a collection of 19 \"guiding principles\" for writing computer programs that influence the design of the Python programming language. Software engineer Tim Peters wrote this set of principles and posted it on the Python mailing list in 1999."
      ]
    },
    {
      "cell_type": "code",
      "metadata": {
        "id": "AQ4FEDbHJybj"
      },
      "source": [
        "import this"
      ],
      "execution_count": null,
      "outputs": []
    },
    {
      "cell_type": "markdown",
      "metadata": {
        "id": "v3ToTbJdKq-J"
      },
      "source": [
        "___\n",
        "## Variables, Lists, and Dictionaries:\n",
        "Now that we're officially Python programmers, let's visit some of the core building blocks of Python."
      ]
    },
    {
      "cell_type": "markdown",
      "metadata": {
        "id": "l6uUmBk-Lkjs"
      },
      "source": [
        "### Variables\n",
        "\n",
        "- Variables are reserved memory locations to store values. This means that when you create a variable (by using the ''`=`'' assignment operator) you reserve some space in memory for that particular piece of information.\n",
        "- The data type of a variable will dictate what kinds of manipulations we can do with it.\n",
        "- When naming our variables, we want to be concise but give some indication about their information or structure.\n",
        "\n",
        ">> *Let's create a variable called `my_name` and fill it with a string value of your name:*"
      ]
    },
    {
      "cell_type": "code",
      "metadata": {
        "id": "0WrFwxduJ1mQ",
        "outputId": "e8fecbd4-e4ed-42ac-ee52-71901758bd0f",
        "colab": {
          "base_uri": "https://localhost:8080/",
          "height": 35
        }
      },
      "source": [
        "my_name = 'Jean Marie Uwimana'\n",
        "meaning_of_life = 42\n",
        "\n",
        "print(my_name, meaning_of_life)"
      ],
      "execution_count": 41,
      "outputs": [
        {
          "output_type": "stream",
          "text": [
            "Jean Marie Uwimana 42\n"
          ],
          "name": "stdout"
        }
      ]
    },
    {
      "cell_type": "code",
      "metadata": {
        "id": "mjS3QPHrxzEB",
        "outputId": "d03dd4e8-4755-4a03-8728-81fccb4cc24a",
        "colab": {
          "base_uri": "https://localhost:8080/",
          "height": 35
        }
      },
      "source": [
        "# We can always check the data type of any variable with the built-in `type` function\n",
        "print(type(my_name), type(meaning_of_life))"
      ],
      "execution_count": 42,
      "outputs": [
        {
          "output_type": "stream",
          "text": [
            "<class 'str'> <class 'int'>\n"
          ],
          "name": "stdout"
        }
      ]
    },
    {
      "cell_type": "code",
      "metadata": {
        "id": "9TKWzl5zyodc",
        "outputId": "18d329ed-5388-462a-a0d6-be1cba8987ab",
        "colab": {
          "base_uri": "https://localhost:8080/",
          "height": 35
        }
      },
      "source": [
        "# We can also generate more customized `print` statements\n",
        "print(\"{}'s favorite number is {}!\".format(my_name, meaning_of_life))"
      ],
      "execution_count": 43,
      "outputs": [
        {
          "output_type": "stream",
          "text": [
            "Jean Marie Uwimana's favorite number is 42!\n"
          ],
          "name": "stdout"
        }
      ]
    },
    {
      "cell_type": "markdown",
      "metadata": {
        "id": "8HAKfgo2wYZj"
      },
      "source": [
        "**String-Specific Functions**\n",
        "- If we have a string, there are some specific functions that we can use to manipulate it.\n",
        "- We'll take a look at some ways we can manipulate strings below.\n",
        "- For a more comprehensive list, check out this [documentation](https://www.programiz.com/python-programming/methods/string)."
      ]
    },
    {
      "cell_type": "code",
      "metadata": {
        "id": "KznXjeva08gO",
        "outputId": "4c409e66-e834-4eb9-bee1-8de3de0ed02f",
        "colab": {
          "base_uri": "https://localhost:8080/",
          "height": 35
        }
      },
      "source": [
        "# We can \"concatenate\" strings or \"add\" them together\n",
        "full_name = my_name + ' ' + 'is awesome!'\n",
        "print(full_name)"
      ],
      "execution_count": 44,
      "outputs": [
        {
          "output_type": "stream",
          "text": [
            "Jean Marie Uwimana is awesome!\n"
          ],
          "name": "stdout"
        }
      ]
    },
    {
      "cell_type": "code",
      "metadata": {
        "id": "9vDXUrEowIgS",
        "outputId": "496b8764-7fb9-4507-ee25-946fcf9d0c36",
        "colab": {
          "base_uri": "https://localhost:8080/",
          "height": 35
        }
      },
      "source": [
        "# We can make a string all lower case or upper case\n",
        "print(my_name.lower(), my_name.upper())"
      ],
      "execution_count": 45,
      "outputs": [
        {
          "output_type": "stream",
          "text": [
            "jean marie uwimana JEAN MARIE UWIMANA\n"
          ],
          "name": "stdout"
        }
      ]
    },
    {
      "cell_type": "code",
      "metadata": {
        "id": "5VYC9VMT1N_c",
        "outputId": "21c711fb-0a5c-4ac8-ec72-3a23c2619ecb",
        "colab": {
          "base_uri": "https://localhost:8080/",
          "height": 35
        }
      },
      "source": [
        "# We can split strings on certain characters\n",
        "full_name.split(' ')"
      ],
      "execution_count": 46,
      "outputs": [
        {
          "output_type": "execute_result",
          "data": {
            "text/plain": [
              "['Jean', 'Marie', 'Uwimana', 'is', 'awesome!']"
            ]
          },
          "metadata": {
            "tags": []
          },
          "execution_count": 46
        }
      ]
    },
    {
      "cell_type": "code",
      "metadata": {
        "id": "te8o2j2H00YT",
        "outputId": "4b893f86-1a39-48c0-c96c-c4fa985b4aa1",
        "colab": {
          "base_uri": "https://localhost:8080/",
          "height": 35
        }
      },
      "source": [
        "# Or replace specific characters\n",
        "full_name.replace('o', 'y')"
      ],
      "execution_count": 47,
      "outputs": [
        {
          "output_type": "execute_result",
          "data": {
            "application/vnd.google.colaboratory.intrinsic+json": {
              "type": "string"
            },
            "text/plain": [
              "'Jean Marie Uwimana is awesyme!'"
            ]
          },
          "metadata": {
            "tags": []
          },
          "execution_count": 47
        }
      ]
    },
    {
      "cell_type": "markdown",
      "metadata": {
        "id": "Yl1k4UnH3p3i"
      },
      "source": [
        "**Numeric-Specific Functions**\n",
        "- If we have a number value, there are _other_ specific functions that we can use to manipulate it.\n",
        "- We'll take a look at some mathematical operators below.\n",
        "- For a more comprehensive list, check out _this_ [reference](https://www.digitalocean.com/community/tutorials/how-to-do-math-in-python-3-with-operators)."
      ]
    },
    {
      "cell_type": "code",
      "metadata": {
        "id": "Ou5JA_GK4Ewf",
        "outputId": "2a15f32f-3571-4af8-9e2d-eb54bd44ef0a",
        "colab": {
          "base_uri": "https://localhost:8080/",
          "height": 87
        }
      },
      "source": [
        "# We can do some basic arithmetic\n",
        "x = 9\n",
        "y = 2\n",
        "\n",
        "print('Sum:', x+y)\n",
        "print('Difference:', x-y)\n",
        "print('Product:', x*y)\n",
        "print('Quotient:', x/y)"
      ],
      "execution_count": 48,
      "outputs": [
        {
          "output_type": "stream",
          "text": [
            "Sum: 11\n",
            "Difference: 7\n",
            "Product: 18\n",
            "Quotient: 4.5\n"
          ],
          "name": "stdout"
        }
      ]
    },
    {
      "cell_type": "code",
      "metadata": {
        "id": "HmuiLBPc7HFD",
        "outputId": "e3d37b32-1cc8-4303-c6d0-c2854accf664",
        "colab": {
          "base_uri": "https://localhost:8080/",
          "height": 52
        }
      },
      "source": [
        "# We can also work with exponents and remainders\n",
        "\n",
        "print('x to the power of y:', x**y)\n",
        "print('Remainder of x divided by y:', x%y)"
      ],
      "execution_count": 49,
      "outputs": [
        {
          "output_type": "stream",
          "text": [
            "x to the power of y: 81\n",
            "Remainder of x divided by y: 1\n"
          ],
          "name": "stdout"
        }
      ]
    },
    {
      "cell_type": "code",
      "metadata": {
        "id": "pxoPwv9l0ufL",
        "outputId": "fc2a9302-a18c-4365-a98c-bc823b50eefa",
        "colab": {
          "base_uri": "https://localhost:8080/",
          "height": 52
        }
      },
      "source": [
        "# Compound operators \n",
        "# update variable state\n",
        "\n",
        "original = 5\n",
        "original += 3\n",
        "print(original)\n",
        "original *= 2\n",
        "print(original)"
      ],
      "execution_count": 50,
      "outputs": [
        {
          "output_type": "stream",
          "text": [
            "8\n",
            "16\n"
          ],
          "name": "stdout"
        }
      ]
    },
    {
      "cell_type": "markdown",
      "metadata": {
        "id": "4kWCMrvNLqSL"
      },
      "source": [
        "___\n",
        "### Lists\n",
        "\n",
        "- Lists are used to store a collection of data in an ordered sequence.\n",
        "- List items can be of different data types.\n",
        "- To create a list, we use square brackets `[]` and fill the brackets with items in the list separated by commas.\n",
        "\n",
        ">> *Let's create a list called `pizza_toppings` and fill it with strings of our favorite ingredients:*"
      ]
    },
    {
      "cell_type": "code",
      "metadata": {
        "id": "n9Qr78UhLtQv",
        "outputId": "c7ad1e8c-32ba-4d88-d12d-c1b6b329c8c0",
        "colab": {
          "base_uri": "https://localhost:8080/",
          "height": 35
        }
      },
      "source": [
        "pizza_toppings = ['pepperoni', 'pineapple', 'extra cheese']\n",
        "print(pizza_toppings)"
      ],
      "execution_count": null,
      "outputs": [
        {
          "output_type": "stream",
          "text": [
            "['pepperoni', 'pineapple', 'extra cheese']\n"
          ],
          "name": "stdout"
        }
      ]
    },
    {
      "cell_type": "code",
      "metadata": {
        "id": "D556faD_2kxd",
        "outputId": "2e3f4882-8032-4042-f64d-0fb860057d56",
        "colab": {
          "base_uri": "https://localhost:8080/",
          "height": 35
        }
      },
      "source": [
        "# Checking the type\n",
        "type(pizza_toppings)"
      ],
      "execution_count": null,
      "outputs": [
        {
          "output_type": "execute_result",
          "data": {
            "text/plain": [
              "list"
            ]
          },
          "metadata": {
            "tags": []
          },
          "execution_count": 3
        }
      ]
    },
    {
      "cell_type": "markdown",
      "metadata": {
        "id": "5lddZlrSMt9X"
      },
      "source": [
        "**Accessing and Updating Lists**\n",
        "- List contents are accessed by index using bracket notation `[]` — you can access an item in a list by asking for the item in a given position.\n",
        "- We can also use bracket notation to reassign or update items in a list.\n",
        "- Accessing multiple items in a list is called slicing — we do this using bracket notation and two indices separated by a colon `:`.\n",
        "\n",
        ">> _Let's take a look at some examples of each of those below:_"
      ]
    },
    {
      "cell_type": "code",
      "metadata": {
        "id": "J8MEh-QwMudA",
        "outputId": "9158f871-4fb5-4e20-e1c8-cf3b70edee61",
        "colab": {
          "base_uri": "https://localhost:8080/",
          "height": 35
        }
      },
      "source": [
        "# Getting the first element in a list\n",
        "pizza_toppings[0]"
      ],
      "execution_count": null,
      "outputs": [
        {
          "output_type": "execute_result",
          "data": {
            "application/vnd.google.colaboratory.intrinsic+json": {
              "type": "string"
            },
            "text/plain": [
              "'pepperoni'"
            ]
          },
          "metadata": {
            "tags": []
          },
          "execution_count": 5
        }
      ]
    },
    {
      "cell_type": "code",
      "metadata": {
        "id": "qgi3U4RS4WYl",
        "outputId": "ad359e92-c26b-479a-a0d8-1ea3ad916ced",
        "colab": {
          "base_uri": "https://localhost:8080/",
          "height": 35
        }
      },
      "source": [
        "# Upgrading 'pineapple' to topping of your choice\n",
        "pizza_toppings[1] = 'Onions'\n",
        "pizza_toppings"
      ],
      "execution_count": null,
      "outputs": [
        {
          "output_type": "execute_result",
          "data": {
            "text/plain": [
              "['pepperoni', 'Onions', 'extra cheese']"
            ]
          },
          "metadata": {
            "tags": []
          },
          "execution_count": 4
        }
      ]
    },
    {
      "cell_type": "code",
      "metadata": {
        "id": "Zno1ed654qvV",
        "outputId": "da7f1d58-676f-4f93-a07e-d10e723ede15",
        "colab": {
          "base_uri": "https://localhost:8080/",
          "height": 35
        }
      },
      "source": [
        "# Looking at multiple items at a time\n",
        "pizza_toppings[0:2]"
      ],
      "execution_count": null,
      "outputs": [
        {
          "output_type": "execute_result",
          "data": {
            "text/plain": [
              "['pepperoni', 'Onions']"
            ]
          },
          "metadata": {
            "tags": []
          },
          "execution_count": 6
        }
      ]
    },
    {
      "cell_type": "code",
      "metadata": {
        "id": "ScB92vpm4w1t",
        "outputId": "57af2e55-f619-4d48-e2c5-e8590db15439",
        "colab": {
          "base_uri": "https://localhost:8080/",
          "height": 35
        }
      },
      "source": [
        "# One cool little trick with slicing (reverse a list)\n",
        "pizza_toppings[::-1]"
      ],
      "execution_count": null,
      "outputs": [
        {
          "output_type": "execute_result",
          "data": {
            "text/plain": [
              "['extra cheese', 'Onions', 'pepperoni']"
            ]
          },
          "metadata": {
            "tags": []
          },
          "execution_count": 8
        }
      ]
    },
    {
      "cell_type": "markdown",
      "metadata": {
        "id": "w2N0XS89lvhW"
      },
      "source": [
        "**List Challenge!**\n",
        "- Make a new list called `stoplight_colors`\n",
        "- Fill it with the following strings:\n",
        "  - `“Green”`\n",
        "  - `“Yellow”`\n",
        "  - `“Broken”`\n",
        "- Using indexing, update `“Broken”` to `“Red”`\n",
        "- `Print` the updated list to confirm the change"
      ]
    },
    {
      "cell_type": "code",
      "metadata": {
        "id": "Odjy4IfdlwAD",
        "outputId": "98e38525-7c82-4a79-d2e5-daea6e639480",
        "colab": {
          "base_uri": "https://localhost:8080/",
          "height": 35
        }
      },
      "source": [
        "# Add your Challenge code here!\n",
        "stoplight_colors =['Green','Yellow','Broken']\n",
        "stoplight_colors"
      ],
      "execution_count": null,
      "outputs": [
        {
          "output_type": "execute_result",
          "data": {
            "text/plain": [
              "['Green', 'Yellow', 'Broken']"
            ]
          },
          "metadata": {
            "tags": []
          },
          "execution_count": 9
        }
      ]
    },
    {
      "cell_type": "code",
      "metadata": {
        "id": "Woo4UtJ0MUGt",
        "outputId": "62059c0c-247b-4fc4-b479-19ac3efb1488",
        "colab": {
          "base_uri": "https://localhost:8080/",
          "height": 35
        }
      },
      "source": [
        "stoplight_colors[2] = 'Red'\n",
        "stoplight_colors"
      ],
      "execution_count": null,
      "outputs": [
        {
          "output_type": "execute_result",
          "data": {
            "text/plain": [
              "['Green', 'Yellow', 'Red']"
            ]
          },
          "metadata": {
            "tags": []
          },
          "execution_count": 11
        }
      ]
    },
    {
      "cell_type": "markdown",
      "metadata": {
        "id": "afYuD1NELt3w"
      },
      "source": [
        "___\n",
        "### Dictionaries\n",
        "\n",
        "- Dictionaries allow you to store data as an unordered collection of `key:value` pairs.\n",
        "  - Looking up or setting values by key rather than by index has different performance implications.\n",
        "  - Writing code that refers to data by name rather than by index number can be much clearer and easier to understand.\n",
        "- We create a dictionary with curly braces `{}` and fill it with `key:value` pairs, with each **pair** separated by a comma.\n",
        "\n",
        "> *Let's create a list called `groceries` and fill it with strings and quantities of some foods we might have around the house:*"
      ]
    },
    {
      "cell_type": "code",
      "metadata": {
        "id": "lmOlOoWXLwOW"
      },
      "source": [
        "groceries = {\n",
        "    'apples': 4,\n",
        "    'bananas': 6,\n",
        "    'cookies': 3\n",
        "}"
      ],
      "execution_count": null,
      "outputs": []
    },
    {
      "cell_type": "code",
      "metadata": {
        "id": "jlo2iTTA60f_",
        "outputId": "0890b19d-ccce-4b08-ba70-d51397bf89b3",
        "colab": {
          "base_uri": "https://localhost:8080/",
          "height": 35
        }
      },
      "source": [
        "# Checking the type\n",
        "type(groceries)"
      ],
      "execution_count": null,
      "outputs": [
        {
          "output_type": "execute_result",
          "data": {
            "text/plain": [
              "dict"
            ]
          },
          "metadata": {
            "tags": []
          },
          "execution_count": 5
        }
      ]
    },
    {
      "cell_type": "markdown",
      "metadata": {
        "id": "MP0acsxyMqrH"
      },
      "source": [
        "**Accessing and Updating Dictionaries**\n",
        "- Dictionary values are accessed using bracket notation `[]`, just like with lists and strings, except that instead of using an index number you use a key.\n",
        "- Updating the value associated with a key looks very much like assigning a value to a variable — again, we'll use bracket notation `[]` and the assignment operator `=` to accomplish this.\n",
        "  - This is also how we create new pairs in the dictionary.\n",
        "- We can also do quick membership checks using `in` and `not in`.\n",
        "\n",
        ">> _Let's take a look at some examples of each of those below:_"
      ]
    },
    {
      "cell_type": "code",
      "metadata": {
        "id": "wR74ZzDqMs4C",
        "outputId": "e47c6970-b284-4051-9cd4-a0751915b7da",
        "colab": {
          "base_uri": "https://localhost:8080/",
          "height": 35
        }
      },
      "source": [
        "# Checking a single value\n",
        "groceries['apples']"
      ],
      "execution_count": null,
      "outputs": [
        {
          "output_type": "execute_result",
          "data": {
            "text/plain": [
              "4"
            ]
          },
          "metadata": {
            "tags": []
          },
          "execution_count": 6
        }
      ]
    },
    {
      "cell_type": "code",
      "metadata": {
        "id": "SarUGoNf98As",
        "outputId": "13253bf1-393c-4c4d-9d02-e55df3f4e3ac",
        "colab": {
          "base_uri": "https://localhost:8080/",
          "height": 35
        }
      },
      "source": [
        "# Updating a value\n",
        "groceries['apples'] += 4\n",
        "groceries"
      ],
      "execution_count": null,
      "outputs": [
        {
          "output_type": "execute_result",
          "data": {
            "text/plain": [
              "{'apples': 8, 'bananas': 6, 'cookies': 3}"
            ]
          },
          "metadata": {
            "tags": []
          },
          "execution_count": 7
        }
      ]
    },
    {
      "cell_type": "code",
      "metadata": {
        "id": "fKCnlUiD-KLB",
        "outputId": "0f74f34a-726f-468a-ce34-056cbd3ca3ce",
        "colab": {
          "base_uri": "https://localhost:8080/",
          "height": 35
        }
      },
      "source": [
        "# Adding a new pair\n",
        "groceries['oranges'] = 6\n",
        "groceries"
      ],
      "execution_count": null,
      "outputs": [
        {
          "output_type": "execute_result",
          "data": {
            "text/plain": [
              "{'apples': 4, 'bananas': 6, 'cookies': 3, 'oranges': 6}"
            ]
          },
          "metadata": {
            "tags": []
          },
          "execution_count": 15
        }
      ]
    },
    {
      "cell_type": "code",
      "metadata": {
        "id": "9KWL_Vvg-Tr9",
        "outputId": "9cd32b34-fbfc-437e-c6a7-ecb13bc590a1",
        "colab": {
          "base_uri": "https://localhost:8080/",
          "height": 52
        }
      },
      "source": [
        "# Checking for membership\n",
        "print('apples' in groceries)\n",
        "print('watermelons' in groceries)"
      ],
      "execution_count": null,
      "outputs": [
        {
          "output_type": "stream",
          "text": [
            "True\n",
            "False\n"
          ],
          "name": "stdout"
        }
      ]
    },
    {
      "cell_type": "markdown",
      "metadata": {
        "id": "w90v73nDn07q"
      },
      "source": [
        "**Dictionary Challenge!**\n",
        "- Take our `groceries` dictionary\n",
        "- Add a new key:value pair of your choice\n",
        "- Delete the `“apples”` item from the dictionary entirely (you may need to use Google!)\n",
        "- Eat 2 cookies (subtract 2 cookies from the inventory)\n",
        "- Print out the dictionary to confirm the changes"
      ]
    },
    {
      "cell_type": "code",
      "metadata": {
        "id": "aD_Oni7Cn1QP",
        "outputId": "93f27297-e548-4d51-eeb6-f24494256035",
        "colab": {
          "base_uri": "https://localhost:8080/",
          "height": 35
        }
      },
      "source": [
        "# Add your Challenge code here!\n",
        "groceries['grapes'] = 10\n",
        "groceries"
      ],
      "execution_count": null,
      "outputs": [
        {
          "output_type": "execute_result",
          "data": {
            "text/plain": [
              "{'apples': 4, 'bananas': 6, 'cookies': 3, 'grapes': 10, 'oranges': 6}"
            ]
          },
          "metadata": {
            "tags": []
          },
          "execution_count": 17
        }
      ]
    },
    {
      "cell_type": "code",
      "metadata": {
        "id": "abGgC2QDNUqb",
        "outputId": "d4d33d95-2ddd-4a6a-8194-b83dbed678e5",
        "colab": {
          "base_uri": "https://localhost:8080/",
          "height": 35
        }
      },
      "source": [
        "#delete apples from the dictionary\n",
        "groceries.pop('apples')\n",
        "groceries"
      ],
      "execution_count": null,
      "outputs": [
        {
          "output_type": "execute_result",
          "data": {
            "text/plain": [
              "{'bananas': 6, 'cookies': 3, 'grapes': 10, 'oranges': 6}"
            ]
          },
          "metadata": {
            "tags": []
          },
          "execution_count": 18
        }
      ]
    },
    {
      "cell_type": "code",
      "metadata": {
        "id": "y86J42iKOg8d",
        "outputId": "3085a220-9958-45b9-d917-8c8029bb370a",
        "colab": {
          "base_uri": "https://localhost:8080/",
          "height": 35
        }
      },
      "source": [
        "#substract 2 from cookies\n",
        "groceries['cookies'] -=2\n",
        "groceries"
      ],
      "execution_count": null,
      "outputs": [
        {
          "output_type": "execute_result",
          "data": {
            "text/plain": [
              "{'bananas': 6, 'cookies': 1, 'grapes': 10, 'oranges': 6}"
            ]
          },
          "metadata": {
            "tags": []
          },
          "execution_count": 19
        }
      ]
    },
    {
      "cell_type": "markdown",
      "metadata": {
        "id": "QqZhhZ5JL3YP"
      },
      "source": [
        "___\n",
        "## Functions:\n",
        "- Functions are going to be an integral part of your workflow as a Python programmer.\n",
        "- Functions let you write a block of organized, reusable code that is used to perform a single, related action.\n",
        "- You define that behavior once, and you can run and re-run your set of instructions whenever and as many times as you need.\n",
        "\n",
        ">> _Let's start with a basic function first and move on to some more complicated ones:_"
      ]
    },
    {
      "cell_type": "code",
      "metadata": {
        "id": "q1dV-rodMigw",
        "outputId": "1d4d2a43-bf3f-4627-f566-54d56f5bebd5",
        "colab": {
          "base_uri": "https://localhost:8080/",
          "height": 35
        }
      },
      "source": [
        "# Defining our function\n",
        "def hello(name):\n",
        "  print(\"Hello \" + name)\n",
        "  \n",
        "# \"Calling\" or executing our function\n",
        "hello(name = 'Jean Marie Uwimana')"
      ],
      "execution_count": null,
      "outputs": [
        {
          "output_type": "stream",
          "text": [
            "Hello Jean Marie Uwimana\n"
          ],
          "name": "stdout"
        }
      ]
    },
    {
      "cell_type": "code",
      "metadata": {
        "id": "ijeG2v9DEGtp",
        "outputId": "6c871de7-e939-4cf3-e66f-d7881e288586",
        "colab": {
          "base_uri": "https://localhost:8080/",
          "height": 35
        }
      },
      "source": [
        "# Using variables as parameters instead of explicit strings\n",
        "some_other_name = \"Guido\"\n",
        "hello(name= some_other_name)"
      ],
      "execution_count": null,
      "outputs": [
        {
          "output_type": "stream",
          "text": [
            "Hello Guido\n"
          ],
          "name": "stdout"
        }
      ]
    },
    {
      "cell_type": "markdown",
      "metadata": {
        "id": "tm_HRS6-Mn_D"
      },
      "source": [
        ">> So far we've been using `print` statements within a function to print something to the console — just showing the user (us) a string representing what is going on inside the computer. The other statement that you will see and utilize is `return`.\n",
        "- `return` is the main way that a function returns a value.\n",
        "- All functions will return a value, and if there is no `return` statement it will return `None`.\n",
        "- The value that is returned by a function can then be further used as an argument passed to another function, stored as a variable, or just printed for the benefit of the human user."
      ]
    },
    {
      "cell_type": "code",
      "metadata": {
        "id": "cxYYshbPMpMn",
        "outputId": "5b9512aa-7614-41c6-da45-a3c4fb030f9f",
        "colab": {
          "base_uri": "https://localhost:8080/",
          "height": 69
        }
      },
      "source": [
        "# Examples showing the difference between `print` and `return`\n",
        "\n",
        "def function_that_prints():\n",
        "    print(\"Printer is out of ink...\")\n",
        "\n",
        "first = function_that_prints()\n",
        "\n",
        "print(\"The value of first is:\", first)\n",
        "print(first)\n"
      ],
      "execution_count": null,
      "outputs": [
        {
          "output_type": "stream",
          "text": [
            "Printer is out of ink...\n",
            "The value of first is: None\n",
            "None\n"
          ],
          "name": "stdout"
        }
      ]
    },
    {
      "cell_type": "code",
      "metadata": {
        "id": "TckJr8DJtc52",
        "outputId": "62793594-41cb-4ea1-9484-5e95a2c49b16",
        "colab": {
          "base_uri": "https://localhost:8080/",
          "height": 52
        }
      },
      "source": [
        "def function_that_returns():\n",
        "    return \"Return of the Function!\"\n",
        "  \n",
        "second = function_that_returns()\n",
        "\n",
        "print(\"The value of second is:\", second)\n",
        "print(second)"
      ],
      "execution_count": null,
      "outputs": [
        {
          "output_type": "stream",
          "text": [
            "The value of second is: Return of the Function!\n",
            "Return of the Function!\n"
          ],
          "name": "stdout"
        }
      ]
    },
    {
      "cell_type": "markdown",
      "metadata": {
        "id": "V4pl_VXKsFJU"
      },
      "source": [
        ">> **Let's build out our understanding with an example here:**"
      ]
    },
    {
      "cell_type": "code",
      "metadata": {
        "id": "XDrC8K78HQMh"
      },
      "source": [
        "def far_to_cel(fahrenheit):\n",
        "  celsius = int((fahrenheit - 32) / 1.8)\n",
        "  return celsius"
      ],
      "execution_count": null,
      "outputs": []
    },
    {
      "cell_type": "code",
      "metadata": {
        "id": "3TY2AWWjIyh3",
        "outputId": "5d770abc-519a-403b-8ec4-cf02dd5f37e9",
        "colab": {
          "base_uri": "https://localhost:8080/",
          "height": 52
        }
      },
      "source": [
        "# Printing resulting values\n",
        "\n",
        "print(far_to_cel(50))\n",
        "new_temp = 85\n",
        "print(far_to_cel(new_temp))"
      ],
      "execution_count": null,
      "outputs": [
        {
          "output_type": "stream",
          "text": [
            "10\n",
            "29\n"
          ],
          "name": "stdout"
        }
      ]
    },
    {
      "cell_type": "code",
      "metadata": {
        "id": "As3MrZsvI8nr",
        "outputId": "fb444a34-6f75-4522-a604-ed9f954a4c66",
        "colab": {
          "base_uri": "https://localhost:8080/",
          "height": 35
        }
      },
      "source": [
        "# Saving the values that have been returned as new variables\n",
        "\n",
        "winter_temp = far_to_cel(30)\n",
        "summer_temp = far_to_cel(90)\n",
        "\n",
        "diff_summer_winter = summer_temp - winter_temp\n",
        "print(diff_summer_winter)"
      ],
      "execution_count": null,
      "outputs": [
        {
          "output_type": "stream",
          "text": [
            "33\n"
          ],
          "name": "stdout"
        }
      ]
    },
    {
      "cell_type": "markdown",
      "metadata": {
        "id": "41CowmoRosMa"
      },
      "source": [
        "**Function Challenge!**\n",
        "- Define a new function called `circumference`\n",
        "- It should take one argument (`radius`)\n",
        "- Given the radius provided, perform the necessary calculation and store it internally in a variable called `cir`\n",
        "- Return the resulting value\n",
        "- Call (execute) your function with a new radius!\n",
        "\n",
        "> Equation of the circumference of a circle:\n",
        "$$C = 2πr$$"
      ]
    },
    {
      "cell_type": "code",
      "metadata": {
        "id": "ZvknqSD8oryC",
        "outputId": "4cf4cf9c-210a-4bac-d79d-b9df69a18e7d",
        "colab": {
          "base_uri": "https://localhost:8080/",
          "height": 35
        }
      },
      "source": [
        "# Add your Challenge code here!\n",
        "\n",
        "#import math package\n",
        "import math\n",
        "#Function to calculate Circumference\n",
        "def circumference(radius):\n",
        "  cir = 2*math.pi*radius\n",
        "  return cir\n",
        "  \n",
        "print(circumference(2))"
      ],
      "execution_count": null,
      "outputs": [
        {
          "output_type": "stream",
          "text": [
            "12.566370614359172\n"
          ],
          "name": "stdout"
        }
      ]
    },
    {
      "cell_type": "markdown",
      "metadata": {
        "id": "vbVIGzFRJbxz"
      },
      "source": [
        "## And there you have it — all of the base Python that you need to get rocking and rolling!\n",
        "- Be sure to keep practicing by changing things in this notebook and by spending 15-20 minutes on a different challenge daily — you'll be amazed at how quickly you'll improve!\n",
        "- Some great daily places to practice are [Practice Python](http://www.practicepython.org/) and [CodeWars](https://www.codewars.com/users/sign_in).\n",
        "\n",
        "## Take Home Challenge\n",
        "- If you want an additional practice challenge to work on here in the notebook, consider the following from PracticePython:\n",
        "  - Write a function that takes a list of numbers (for example, `a = [5, 10, 15, 20, 25]`) and makes a new list of only the first and last elements of the given list.\n",
        "  - We'll start the code for you below:"
      ]
    },
    {
      "cell_type": "code",
      "metadata": {
        "id": "ELAQwh5hiKqY"
      },
      "source": [
        "def list_ends(series):\n",
        "  # Your code goes here"
      ],
      "execution_count": null,
      "outputs": []
    },
    {
      "cell_type": "markdown",
      "metadata": {
        "id": "qv9ER8innCJD"
      },
      "source": [
        "# Keep Learning with Thinkful\n",
        "If you enjoyed today's session and want to take a deeper dive into many of the topics that we covered today like Pandas, SQL, predictive modeling, visualizing your data, and so much more, we'd love to have you join us again!\n",
        "- Check out more of our webinars at [Thinkful Webinars](https://www.thinkful.com/webinars/)\n",
        "- Learn more about the [Data Science Flex Course](https://www.thinkful.com/bootcamp/data-science/flexible/)"
      ]
    }
  ]
}
