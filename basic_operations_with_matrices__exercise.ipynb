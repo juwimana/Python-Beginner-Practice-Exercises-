{
  "nbformat": 4,
  "nbformat_minor": 0,
  "metadata": {
    "kernelspec": {
      "display_name": "Python 3",
      "language": "python",
      "name": "python3"
    },
    "language_info": {
      "codemirror_mode": {
        "name": "ipython",
        "version": 3
      },
      "file_extension": ".py",
      "mimetype": "text/x-python",
      "name": "python",
      "nbconvert_exporter": "python",
      "pygments_lexer": "ipython3",
      "version": "3.7.6"
    },
    "toc": {
      "base_numbering": 1,
      "nav_menu": {},
      "number_sections": true,
      "sideBar": true,
      "skip_h1_title": false,
      "title_cell": "Table of Contents",
      "title_sidebar": "Contents",
      "toc_cell": false,
      "toc_position": {},
      "toc_section_display": true,
      "toc_window_display": true
    },
    "varInspector": {
      "cols": {
        "lenName": 16,
        "lenType": 16,
        "lenVar": 40
      },
      "kernels_config": {
        "python": {
          "delete_cmd_postfix": "",
          "delete_cmd_prefix": "del ",
          "library": "var_list.py",
          "varRefreshCmd": "print(var_dic_list())"
        },
        "r": {
          "delete_cmd_postfix": ") ",
          "delete_cmd_prefix": "rm(",
          "library": "var_list.r",
          "varRefreshCmd": "cat(var_dic_list()) "
        }
      },
      "types_to_exclude": [
        "module",
        "function",
        "builtin_function_or_method",
        "instance",
        "_Feature"
      ],
      "window_display": false
    },
    "colab": {
      "name": "basic_operations_with_matrices__exercise.ipynb",
      "provenance": [],
      "include_colab_link": true
    }
  },
  "cells": [
    {
      "cell_type": "markdown",
      "metadata": {
        "id": "view-in-github",
        "colab_type": "text"
      },
      "source": [
        "<a href=\"https://colab.research.google.com/github/juwimana/Python-Beginner-Practice-Exercises-/blob/main/basic_operations_with_matrices__exercise.ipynb\" target=\"_parent\"><img src=\"https://colab.research.google.com/assets/colab-badge.svg\" alt=\"Open In Colab\"/></a>"
      ]
    },
    {
      "cell_type": "markdown",
      "metadata": {
        "ExecuteTime": {
          "end_time": "2020-01-30T08:49:56.471556Z",
          "start_time": "2020-01-30T08:49:56.467072Z"
        },
        "id": "sR1oC9BkKABF"
      },
      "source": [
        "**TASK:** import numpy"
      ]
    },
    {
      "cell_type": "code",
      "metadata": {
        "id": "rj7sVxeRKABI"
      },
      "source": [
        "import numpy as np"
      ],
      "execution_count": 1,
      "outputs": []
    },
    {
      "cell_type": "markdown",
      "metadata": {
        "ExecuteTime": {
          "end_time": "2020-01-30T08:49:56.803505Z",
          "start_time": "2020-01-30T08:49:56.790390Z"
        },
        "id": "U6Vtu_nGKABW"
      },
      "source": [
        "**TASK:** define vector 'x' with three coordinates"
      ]
    },
    {
      "cell_type": "code",
      "metadata": {
        "id": "1VAS1lwgKABZ"
      },
      "source": [
        "x = np.array([2,3,6])"
      ],
      "execution_count": 21,
      "outputs": []
    },
    {
      "cell_type": "markdown",
      "metadata": {
        "ExecuteTime": {
          "end_time": "2020-01-30T08:49:57.155981Z",
          "start_time": "2020-01-30T08:49:57.142948Z"
        },
        "id": "i-AoCf-hKABn"
      },
      "source": [
        "**TASK:** define (2 x 2) matrix 'A' \n"
      ]
    },
    {
      "cell_type": "code",
      "metadata": {
        "id": "x64HJaf1KABq"
      },
      "source": [
        "A = np.array([[2,3],[5,1]])"
      ],
      "execution_count": 102,
      "outputs": []
    },
    {
      "cell_type": "markdown",
      "metadata": {
        "ExecuteTime": {
          "end_time": "2020-01-30T08:49:57.628250Z",
          "start_time": "2020-01-30T08:49:57.618326Z"
        },
        "id": "f1edU_ewKAB5"
      },
      "source": [
        "**TASK:** define (2 x 2) matrix 'B'"
      ]
    },
    {
      "cell_type": "code",
      "metadata": {
        "id": "t0ijNbmMKAB7"
      },
      "source": [
        "B = np.array([[8,3],[1,2]])"
      ],
      "execution_count": 4,
      "outputs": []
    },
    {
      "cell_type": "markdown",
      "metadata": {
        "ExecuteTime": {
          "end_time": "2020-01-30T08:49:57.644266Z",
          "start_time": "2020-01-30T08:49:57.633733Z"
        },
        "id": "X_ezyTLBKACG"
      },
      "source": [
        "**TASK:** check the type of 'x'"
      ]
    },
    {
      "cell_type": "code",
      "metadata": {
        "id": "JhsjAvvhKACI",
        "outputId": "5e8fab7d-cf97-4de4-aa19-4083dbe4e1e3",
        "colab": {
          "base_uri": "https://localhost:8080/",
          "height": 35
        }
      },
      "source": [
        "type(x)"
      ],
      "execution_count": 22,
      "outputs": [
        {
          "output_type": "execute_result",
          "data": {
            "text/plain": [
              "numpy.ndarray"
            ]
          },
          "metadata": {
            "tags": []
          },
          "execution_count": 22
        }
      ]
    },
    {
      "cell_type": "markdown",
      "metadata": {
        "ExecuteTime": {
          "end_time": "2020-01-30T08:49:58.239708Z",
          "start_time": "2020-01-30T08:49:58.231962Z"
        },
        "id": "2PwSAEp6KACU"
      },
      "source": [
        "**TASK:** check the type of 'A'"
      ]
    },
    {
      "cell_type": "code",
      "metadata": {
        "id": "cIjDqT55KACV",
        "outputId": "5d182e85-0d47-4c8e-d896-9088b8fbf431",
        "colab": {
          "base_uri": "https://localhost:8080/",
          "height": 35
        }
      },
      "source": [
        "type(A)"
      ],
      "execution_count": 16,
      "outputs": [
        {
          "output_type": "execute_result",
          "data": {
            "text/plain": [
              "numpy.ndarray"
            ]
          },
          "metadata": {
            "tags": []
          },
          "execution_count": 16
        }
      ]
    },
    {
      "cell_type": "markdown",
      "metadata": {
        "ExecuteTime": {
          "end_time": "2020-01-30T08:49:58.780503Z",
          "start_time": "2020-01-30T08:49:58.771843Z"
        },
        "id": "RVjSqVZtKACl"
      },
      "source": [
        "**TASK:**  check the shape of 'x'\n"
      ]
    },
    {
      "cell_type": "code",
      "metadata": {
        "id": "3MKiX6LIKACn",
        "outputId": "f2d31953-589c-4416-84e6-185fb6bfd823",
        "colab": {
          "base_uri": "https://localhost:8080/",
          "height": 35
        }
      },
      "source": [
        "x.shape"
      ],
      "execution_count": 23,
      "outputs": [
        {
          "output_type": "execute_result",
          "data": {
            "text/plain": [
              "(3,)"
            ]
          },
          "metadata": {
            "tags": []
          },
          "execution_count": 23
        }
      ]
    },
    {
      "cell_type": "markdown",
      "metadata": {
        "ExecuteTime": {
          "end_time": "2020-01-30T08:49:59.209544Z",
          "start_time": "2020-01-30T08:49:59.197955Z"
        },
        "id": "Gw8UAPu1KAC1"
      },
      "source": [
        "**TASK:** check the type of 'B'"
      ]
    },
    {
      "cell_type": "code",
      "metadata": {
        "id": "8dYnDI--KAC4",
        "outputId": "df9fa8e0-492f-4948-c93a-4166a2b97cd1",
        "colab": {
          "base_uri": "https://localhost:8080/",
          "height": 35
        }
      },
      "source": [
        "type(B)"
      ],
      "execution_count": 25,
      "outputs": [
        {
          "output_type": "execute_result",
          "data": {
            "text/plain": [
              "numpy.ndarray"
            ]
          },
          "metadata": {
            "tags": []
          },
          "execution_count": 25
        }
      ]
    },
    {
      "cell_type": "markdown",
      "metadata": {
        "id": "ASxFN5lAKADC"
      },
      "source": [
        "**TASK:** "
      ]
    },
    {
      "cell_type": "code",
      "metadata": {
        "ExecuteTime": {
          "end_time": "2020-01-30T08:49:59.477768Z",
          "start_time": "2020-01-30T08:49:59.472858Z"
        },
        "id": "VYOaHn1OKADG"
      },
      "source": [
        "\"\"\"\n",
        "Define function 'have_same_shape' which checks if two arrays have same shape.\n",
        "\n",
        "PARAMS:\n",
        "    array_1 (numpy.ndarray) - first array\n",
        "    array_2 (numpy.ndarray) - second array\n",
        "RETURN:\n",
        "    True - if arrays have same shape\n",
        "    False - if arrays do not have same shape\n",
        "\n",
        "Also print 'Arrays must have same shape!' when returning False\n",
        "\"\"\""
      ],
      "execution_count": null,
      "outputs": []
    },
    {
      "cell_type": "code",
      "metadata": {
        "id": "h5GkctCkKADR"
      },
      "source": [
        "def have_same_shape(A,B):\n",
        "  if A.shape == B.shape:\n",
        "    return True\n",
        "  else:\n",
        "    print(\"Arrays must have the same shape\\n\")\n",
        "    return False\n"
      ],
      "execution_count": 29,
      "outputs": []
    },
    {
      "cell_type": "markdown",
      "metadata": {
        "ExecuteTime": {
          "end_time": "2020-01-30T08:49:59.773624Z",
          "start_time": "2020-01-30T08:49:59.764633Z"
        },
        "id": "x7YV2QrdKADd"
      },
      "source": [
        "**TASK:** call the function 'have_same_shape' with matrix 'A' and vector 'x' as inputs"
      ]
    },
    {
      "cell_type": "code",
      "metadata": {
        "id": "62YWZ0inKADf",
        "outputId": "278ba60a-be3f-43f3-9e48-6cff6df53113",
        "colab": {
          "base_uri": "https://localhost:8080/",
          "height": 69
        }
      },
      "source": [
        "have_same_shape(A,x)"
      ],
      "execution_count": 30,
      "outputs": [
        {
          "output_type": "stream",
          "text": [
            "Arrays must have the same shape\n",
            "\n"
          ],
          "name": "stdout"
        },
        {
          "output_type": "execute_result",
          "data": {
            "text/plain": [
              "False"
            ]
          },
          "metadata": {
            "tags": []
          },
          "execution_count": 30
        }
      ]
    },
    {
      "cell_type": "markdown",
      "metadata": {
        "ExecuteTime": {
          "end_time": "2020-01-30T08:50:00.108597Z",
          "start_time": "2020-01-30T08:50:00.099924Z"
        },
        "id": "PdzVVz25KADt"
      },
      "source": [
        "**TASK:**  call the function 'have_same_shape' with matrix 'A' and matrix 'B' as inputs"
      ]
    },
    {
      "cell_type": "code",
      "metadata": {
        "id": "LlAMvyanKADv",
        "outputId": "314df90a-cd1e-45b5-e2dd-2e810d8bcbc9",
        "colab": {
          "base_uri": "https://localhost:8080/",
          "height": 35
        }
      },
      "source": [
        "have_same_shape(A,B)"
      ],
      "execution_count": 31,
      "outputs": [
        {
          "output_type": "execute_result",
          "data": {
            "text/plain": [
              "True"
            ]
          },
          "metadata": {
            "tags": []
          },
          "execution_count": 31
        }
      ]
    },
    {
      "cell_type": "markdown",
      "metadata": {
        "id": "F5pgTE8WKAD_"
      },
      "source": [
        "**TASK:** "
      ]
    },
    {
      "cell_type": "code",
      "metadata": {
        "ExecuteTime": {
          "end_time": "2020-01-30T08:50:00.453186Z",
          "start_time": "2020-01-30T08:50:00.445491Z"
        },
        "id": "7S25a8e5KAEB"
      },
      "source": [
        "\"\"\"\n",
        "Define function 'matrix_addition' which perform matrix addition value by value.\n",
        "\n",
        "PARAMS:\n",
        "    A (numpy.ndarray) - first array\n",
        "    B (numpy.ndarray) - second array\n",
        "RETURN:\n",
        "    C (numpy.ndarray) - new A+B array\n",
        "\n",
        "In this task do not consider broadcasting.\n",
        "Do not forget to check arrays shapes (you can use 'have_same_shape' function defined before)\n",
        "\n",
        "\"\"\"\n"
      ],
      "execution_count": null,
      "outputs": []
    },
    {
      "cell_type": "code",
      "metadata": {
        "id": "3WO0FsmtKAEN"
      },
      "source": [
        "def matrix_addition(A,B):\n",
        "  #check shape\n",
        "  if have_same_shape(A,B) == True:\n",
        "    C = A + B\n",
        "    return C\n",
        "  else:\n",
        "    print(\"Can't add arrays due to different shape\")"
      ],
      "execution_count": 42,
      "outputs": []
    },
    {
      "cell_type": "markdown",
      "metadata": {
        "ExecuteTime": {
          "end_time": "2020-01-30T08:50:00.926629Z",
          "start_time": "2020-01-30T08:50:00.914790Z"
        },
        "id": "UHCg8nNRKAEV"
      },
      "source": [
        "**TASK:** call the function 'matrix_addition' with matrix 'A' and matrix 'B' as inputs"
      ]
    },
    {
      "cell_type": "code",
      "metadata": {
        "id": "q2Qa-A6uKAEl",
        "outputId": "d74be494-3db7-4f84-fa29-145d9db6f342",
        "colab": {
          "base_uri": "https://localhost:8080/",
          "height": 52
        }
      },
      "source": [
        "matrix_addition(A,B)"
      ],
      "execution_count": 40,
      "outputs": [
        {
          "output_type": "execute_result",
          "data": {
            "text/plain": [
              "array([[10,  6],\n",
              "       [ 6,  3]])"
            ]
          },
          "metadata": {
            "tags": []
          },
          "execution_count": 40
        }
      ]
    },
    {
      "cell_type": "code",
      "metadata": {
        "id": "1peQk1V0M7q_",
        "outputId": "108f27ab-aca9-4b63-a2e2-56c1eadfb3d7",
        "colab": {
          "base_uri": "https://localhost:8080/",
          "height": 69
        }
      },
      "source": [
        "matrix_addition(A,x)"
      ],
      "execution_count": 43,
      "outputs": [
        {
          "output_type": "stream",
          "text": [
            "Arrays must have the same shape\n",
            "\n",
            "Can't add arrays due to different shape\n"
          ],
          "name": "stdout"
        }
      ]
    },
    {
      "cell_type": "markdown",
      "metadata": {
        "id": "d0hQKpBJKAEx"
      },
      "source": [
        "**TASK:** "
      ]
    },
    {
      "cell_type": "code",
      "metadata": {
        "ExecuteTime": {
          "end_time": "2020-01-30T08:50:01.238605Z",
          "start_time": "2020-01-30T08:50:01.231201Z"
        },
        "collapsed": true,
        "jupyter": {
          "outputs_hidden": true
        },
        "id": "hWZBcYg0KAE1",
        "outputId": "c82c571b-25d2-4594-b2f6-3f9359a9ba5a"
      },
      "source": [
        "\"\"\"\n",
        "Define 'multiple_matrix_adition' function that takes list of arrays as the input and perform array addition\n",
        "\n",
        "PARAMS:\n",
        "   lst_of_arr (list) - list of numpy.ndarrays\n",
        "RETURN:\n",
        "    NEW_ARRAY (numpy.ndarray) - new array\n",
        "\n",
        "Use 'matrix_addition' function defined before.\n",
        "\"\"\""
      ],
      "execution_count": null,
      "outputs": [
        {
          "output_type": "execute_result",
          "data": {
            "text/plain": [
              "\"\\nDefine 'multiple_matrix_adition' function that takes list of arrays as the input and perform array addition\\n\\nPARAMS:\\n   lst_of_arr (list) - list of numpy.ndarrays\\nRETURN:\\n    NEW_ARRAY (numpy.ndarray) - new array\\n\\nUse 'matrix_addition' function defined before.\\n\""
            ]
          },
          "metadata": {
            "tags": []
          },
          "execution_count": 1
        }
      ]
    },
    {
      "cell_type": "code",
      "metadata": {
        "id": "dTPUz7soKAFF"
      },
      "source": [
        "def multiple_matrix_addition(list):\n",
        "  i = 0\n",
        "  M = list[i]\n",
        "  print(M)\n",
        "\n",
        "  while i < len(list):\n",
        "    M = matrix_addition(list[i],M)\n",
        "    print(M)\n",
        "    i = i + 1\n",
        "\n",
        "  return M\n"
      ],
      "execution_count": 109,
      "outputs": []
    },
    {
      "cell_type": "markdown",
      "metadata": {
        "ExecuteTime": {
          "end_time": "2020-01-30T08:50:01.515057Z",
          "start_time": "2020-01-30T08:50:01.506002Z"
        },
        "id": "3J2NBuNJKAFP"
      },
      "source": [
        "**TASK:** call the function 'multiple_matrix_addition' with matrix [A,A,B,B,B] as input\n"
      ]
    },
    {
      "cell_type": "code",
      "metadata": {
        "id": "pgi5ZtekKAFQ",
        "outputId": "b1da062b-1bd7-4b63-b1fc-399d7ddfe4d4",
        "colab": {
          "base_uri": "https://localhost:8080/",
          "height": 225
        }
      },
      "source": [
        "multiple_matrix_addition([A,B,B,B])"
      ],
      "execution_count": 110,
      "outputs": [
        {
          "output_type": "stream",
          "text": [
            "[[2 3]\n",
            " [5 1]]\n",
            "[[ 4  6]\n",
            " [10  2]]\n",
            "[[12  9]\n",
            " [11  4]]\n",
            "[[20 12]\n",
            " [12  6]]\n",
            "[[28 15]\n",
            " [13  8]]\n"
          ],
          "name": "stdout"
        },
        {
          "output_type": "execute_result",
          "data": {
            "text/plain": [
              "array([[28, 15],\n",
              "       [13,  8]])"
            ]
          },
          "metadata": {
            "tags": []
          },
          "execution_count": 110
        }
      ]
    },
    {
      "cell_type": "markdown",
      "metadata": {
        "id": "5CBgVLs3KAFa"
      },
      "source": [
        "**TASK:** "
      ]
    },
    {
      "cell_type": "code",
      "metadata": {
        "ExecuteTime": {
          "end_time": "2020-01-30T08:50:01.934418Z",
          "start_time": "2020-01-30T08:50:01.921444Z"
        },
        "id": "YskpOFIoKAFd"
      },
      "source": [
        "\"\"\"\n",
        "Define function 'can_multiply' that checks if two arrays (matrices) can be multiplied\n",
        "\n",
        "PARAMS:\n",
        "   array_a (numpy.ndarray) - first array\n",
        "   array_b (numpy.ndarray) - second array\n",
        "RETURN:\n",
        "    True - if arrays can be multiplied, also print the shape of the new array\n",
        "    False - if arrays can not be multiplied, also print 'Matrices can not be multiplied.'\n",
        "    \n",
        "\"\"\""
      ],
      "execution_count": null,
      "outputs": []
    },
    {
      "cell_type": "code",
      "metadata": {
        "id": "gus1Xvq2KAFk"
      },
      "source": [
        "def can_multiply(A,B):\n",
        "  if A.shape[1] == B.shape[0]:\n",
        "    print(\"({},{})\".format(A.shape[0],A.shape[1]))\n",
        "    return True\n",
        "  else: \n",
        "    print(\"Matrices can not be multipled\")\n",
        "    return False"
      ],
      "execution_count": 114,
      "outputs": []
    },
    {
      "cell_type": "markdown",
      "metadata": {
        "ExecuteTime": {
          "end_time": "2020-01-30T08:50:02.291084Z",
          "start_time": "2020-01-30T08:50:02.280835Z"
        },
        "id": "QO0HrxtUKAFv"
      },
      "source": [
        "**TASK:** call the function 'can_multiply' with matrix 'A' and 'B' as inputs"
      ]
    },
    {
      "cell_type": "code",
      "metadata": {
        "id": "rad6vPLvKAFx",
        "outputId": "aea97e42-cb46-422b-a048-c6139bca5d9b",
        "colab": {
          "base_uri": "https://localhost:8080/",
          "height": 52
        }
      },
      "source": [
        "can_multiply(A,B)"
      ],
      "execution_count": 115,
      "outputs": [
        {
          "output_type": "stream",
          "text": [
            "(2,2)\n"
          ],
          "name": "stdout"
        },
        {
          "output_type": "execute_result",
          "data": {
            "text/plain": [
              "True"
            ]
          },
          "metadata": {
            "tags": []
          },
          "execution_count": 115
        }
      ]
    },
    {
      "cell_type": "markdown",
      "metadata": {
        "ExecuteTime": {
          "end_time": "2020-01-30T08:50:02.590166Z",
          "start_time": "2020-01-30T08:50:02.583812Z"
        },
        "id": "o86BN8HhKAGA"
      },
      "source": [
        "**TASK:**  define matrix (3 x 2) matrix C"
      ]
    },
    {
      "cell_type": "code",
      "metadata": {
        "id": "irl_XvugKAGC",
        "outputId": "2ac68547-da49-4cc5-9f35-365f40996432",
        "colab": {
          "base_uri": "https://localhost:8080/",
          "height": 69
        }
      },
      "source": [
        "C = np.array([[1,2],[7,5],[3,10]])\n",
        "C"
      ],
      "execution_count": 121,
      "outputs": [
        {
          "output_type": "execute_result",
          "data": {
            "text/plain": [
              "array([[ 1,  2],\n",
              "       [ 7,  5],\n",
              "       [ 3, 10]])"
            ]
          },
          "metadata": {
            "tags": []
          },
          "execution_count": 121
        }
      ]
    },
    {
      "cell_type": "markdown",
      "metadata": {
        "ExecuteTime": {
          "end_time": "2020-01-30T08:50:02.853507Z",
          "start_time": "2020-01-30T08:50:02.841481Z"
        },
        "id": "xO54PAsdKAGS"
      },
      "source": [
        "**TASK:**  call the function 'can_multiply' with matrix 'A' and 'C' as inputs"
      ]
    },
    {
      "cell_type": "code",
      "metadata": {
        "id": "jBQfdlCMKAGT",
        "outputId": "d0e185d4-b69f-4279-d4ad-dc47e4adbe34",
        "colab": {
          "base_uri": "https://localhost:8080/",
          "height": 52
        }
      },
      "source": [
        "can_multiply(A,C)"
      ],
      "execution_count": 117,
      "outputs": [
        {
          "output_type": "stream",
          "text": [
            "Matrices can not be multipled\n"
          ],
          "name": "stdout"
        },
        {
          "output_type": "execute_result",
          "data": {
            "text/plain": [
              "False"
            ]
          },
          "metadata": {
            "tags": []
          },
          "execution_count": 117
        }
      ]
    },
    {
      "cell_type": "markdown",
      "metadata": {
        "ExecuteTime": {
          "end_time": "2020-01-30T08:50:03.194987Z",
          "start_time": "2020-01-30T08:50:03.188313Z"
        },
        "id": "GWttZ48eKAGf"
      },
      "source": [
        "**TASK:**  call the function 'can_multiply' with matrix 'C' and 'A' as inputs (now C,A not A,C). Do you know why is the result different?"
      ]
    },
    {
      "cell_type": "code",
      "metadata": {
        "id": "XqtpSE05KAGg",
        "outputId": "f1aefbe0-bbf8-461c-dcd4-a82794d1b855",
        "colab": {
          "base_uri": "https://localhost:8080/",
          "height": 52
        }
      },
      "source": [
        "can_multiply(C,A)"
      ],
      "execution_count": 118,
      "outputs": [
        {
          "output_type": "stream",
          "text": [
            "(3,2)\n"
          ],
          "name": "stdout"
        },
        {
          "output_type": "execute_result",
          "data": {
            "text/plain": [
              "True"
            ]
          },
          "metadata": {
            "tags": []
          },
          "execution_count": 118
        }
      ]
    },
    {
      "cell_type": "markdown",
      "metadata": {
        "id": "5Q4i2le7KAGp"
      },
      "source": [
        "**TASK:** "
      ]
    },
    {
      "cell_type": "code",
      "metadata": {
        "ExecuteTime": {
          "end_time": "2020-01-30T08:50:03.460761Z",
          "start_time": "2020-01-30T08:50:03.453042Z"
        },
        "id": "wNPnQapkKAGr"
      },
      "source": [
        "\"\"\"\n",
        "Define function 'matrix_multiplication' that multiply two numpy.ndarrays\n",
        "\n",
        "PARAMS:\n",
        "   array_a (numpy.ndarray) - first array\n",
        "   array_b (numpy.ndarray) - second array\n",
        "RETURN:\n",
        "    NEW_ARRAY (numpy.ndarray) - new A * B array\n",
        "    \n",
        "Do not forget to check if two matrices can be multiplied.\n",
        "\n",
        "\"\"\""
      ],
      "execution_count": null,
      "outputs": []
    },
    {
      "cell_type": "code",
      "metadata": {
        "id": "dRVxiTBMKAG0"
      },
      "source": [
        "def matrix_multiplication(A,B):\n",
        "  if can_multiply(A,B) == True:\n",
        "    C = A.dot(B)\n",
        "    return C\n",
        "  else:\n",
        "    return False"
      ],
      "execution_count": 119,
      "outputs": []
    },
    {
      "cell_type": "markdown",
      "metadata": {
        "ExecuteTime": {
          "end_time": "2020-01-30T08:50:03.899011Z",
          "start_time": "2020-01-30T08:50:03.886562Z"
        },
        "id": "uCXm3QaMKAG_"
      },
      "source": [
        "**TASK:**  call the function 'matrix_multiplication' with matrix 'C' and 'B' \n"
      ]
    },
    {
      "cell_type": "code",
      "metadata": {
        "id": "eS_6q9QKKAHB",
        "outputId": "8b814a91-50b7-4c1b-bd17-68fd5ba4d48a",
        "colab": {
          "base_uri": "https://localhost:8080/",
          "height": 87
        }
      },
      "source": [
        "matrix_multiplication(C,B)"
      ],
      "execution_count": 120,
      "outputs": [
        {
          "output_type": "stream",
          "text": [
            "(3,2)\n"
          ],
          "name": "stdout"
        },
        {
          "output_type": "execute_result",
          "data": {
            "text/plain": [
              "array([[10,  7],\n",
              "       [61, 31],\n",
              "       [34, 29]])"
            ]
          },
          "metadata": {
            "tags": []
          },
          "execution_count": 120
        }
      ]
    },
    {
      "cell_type": "code",
      "metadata": {
        "id": "fwzr57wlYIkc",
        "outputId": "93b4ba10-957b-4347-d909-8691b3efc6d2",
        "colab": {
          "base_uri": "https://localhost:8080/",
          "height": 52
        }
      },
      "source": [
        "matrix_multiplication(B,C)"
      ],
      "execution_count": 125,
      "outputs": [
        {
          "output_type": "stream",
          "text": [
            "Matrices can not be multipled\n"
          ],
          "name": "stdout"
        },
        {
          "output_type": "execute_result",
          "data": {
            "text/plain": [
              "False"
            ]
          },
          "metadata": {
            "tags": []
          },
          "execution_count": 125
        }
      ]
    },
    {
      "cell_type": "markdown",
      "metadata": {
        "ExecuteTime": {
          "end_time": "2020-01-30T08:50:04.265728Z",
          "start_time": "2020-01-30T08:50:04.258942Z"
        },
        "id": "n_28CMTDKAHK"
      },
      "source": [
        "**TASK:** call the function 'matrix_multiplication' with matrix 'A' and 'C' "
      ]
    },
    {
      "cell_type": "code",
      "metadata": {
        "id": "gf-q0KH9KAHL",
        "outputId": "bd7035d4-287d-4c9d-e98c-2e6e73952927",
        "colab": {
          "base_uri": "https://localhost:8080/",
          "height": 52
        }
      },
      "source": [
        "matrix_multiplication(A,C)"
      ],
      "execution_count": 122,
      "outputs": [
        {
          "output_type": "stream",
          "text": [
            "Matrices can not be multipled\n"
          ],
          "name": "stdout"
        },
        {
          "output_type": "execute_result",
          "data": {
            "text/plain": [
              "False"
            ]
          },
          "metadata": {
            "tags": []
          },
          "execution_count": 122
        }
      ]
    },
    {
      "cell_type": "code",
      "metadata": {
        "id": "Z75UZbXaKAHV",
        "outputId": "20d1b099-55a3-4201-8ae9-1738fdca5747",
        "colab": {
          "base_uri": "https://localhost:8080/",
          "height": 87
        }
      },
      "source": [
        "matrix_multiplication(C,A)"
      ],
      "execution_count": 126,
      "outputs": [
        {
          "output_type": "stream",
          "text": [
            "(3,2)\n"
          ],
          "name": "stdout"
        },
        {
          "output_type": "execute_result",
          "data": {
            "text/plain": [
              "array([[12,  5],\n",
              "       [39, 26],\n",
              "       [56, 19]])"
            ]
          },
          "metadata": {
            "tags": []
          },
          "execution_count": 126
        }
      ]
    }
  ]
}