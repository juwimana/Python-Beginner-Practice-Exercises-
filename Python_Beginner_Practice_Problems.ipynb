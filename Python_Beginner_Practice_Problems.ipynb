{
  "nbformat": 4,
  "nbformat_minor": 0,
  "metadata": {
    "colab": {
      "name": "Python Beginner Practice Problems.ipynb",
      "provenance": [],
      "authorship_tag": "ABX9TyP5VtVI0uvBB/4tMAdGsrxw",
      "include_colab_link": true
    },
    "kernelspec": {
      "name": "python3",
      "display_name": "Python 3"
    }
  },
  "cells": [
    {
      "cell_type": "markdown",
      "metadata": {
        "id": "view-in-github",
        "colab_type": "text"
      },
      "source": [
        "<a href=\"https://colab.research.google.com/github/juwimana/Python-Beginner-Practice-Exercises-/blob/main/Python_Beginner_Practice_Problems.ipynb\" target=\"_parent\"><img src=\"https://colab.research.google.com/assets/colab-badge.svg\" alt=\"Open In Colab\"/></a>"
      ]
    },
    {
      "cell_type": "markdown",
      "metadata": {
        "id": "4sMLk-HPZcR8"
      },
      "source": [
        "# Python Practise Problems (with Possible Solutions)\n",
        "Practice, Practice, Practice. First steps, to proficiency in Python!\n",
        "  "
      ]
    },
    {
      "cell_type": "markdown",
      "metadata": {
        "id": "ct6lOWuraUa8"
      },
      "source": [
        "1. Create a program that asks the user to enter their name and their age. Print out a message addressed to them that tells them the year that they will turn 80 years old"
      ]
    },
    {
      "cell_type": "code",
      "metadata": {
        "id": "m-jbq1GLda_G"
      },
      "source": [
        "#requesting name from user\n",
        "name = input(\"Enter your name\\n\")\n",
        "#requesting age of user\n",
        "age = input(\"Enter your age\\n\")\n",
        "#calculating when user will be 80 years old\n",
        "current_year = 1996\n",
        "future_year = current_year + (80-int(age))\n",
        "print('\\n{} your will be 80 years old in {}'.format(name,future_year)) "
      ],
      "execution_count": null,
      "outputs": []
    },
    {
      "cell_type": "markdown",
      "metadata": {
        "id": "91r4AP5qigX_"
      },
      "source": [
        "2. Create a program that asks the user for a number and then prints out a list of all the divisors of that number"
      ]
    },
    {
      "cell_type": "code",
      "metadata": {
        "id": "sSKdgRZoen17"
      },
      "source": [
        "#input from user\n",
        "number = int(input(\"Enter any value\\n\\n\"))\n",
        "#generating a list of values\n",
        "possible_divisor = range(1,number+1)\n",
        "#finding divisor\n",
        "print(\"\\nThe following values below are divisors of {}:\\n\".format(number))\n",
        "for value in possible_divisor:\n",
        "  if number%value == 0:\n",
        "    print(value)"
      ],
      "execution_count": null,
      "outputs": []
    },
    {
      "cell_type": "markdown",
      "metadata": {
        "id": "J70p01IHoLTl"
      },
      "source": [
        "3. Take two lists and write a program that returns a list that contains only the elements that are common between the lists (without duplicates). Make sure your program works on two lists of different sizes"
      ]
    },
    {
      "cell_type": "code",
      "metadata": {
        "id": "P_ihXaGildVc"
      },
      "source": [
        "#import random package for random number generation\n",
        "import random\n",
        "\n",
        "#randomly generate two lists\n",
        "n = random.randint(1,100)\n",
        "m = n*(random.randint(1,100)) \n",
        "p = random.randint(1,100)\n",
        "q = p*(random.randint(1,100)) \n",
        "\n",
        "#The range() function returns stops before a specified number\n",
        "list_1 = range(n,m) #list will have numbers from n to m-1\n",
        "list_2 = range(p,q) #list will have values from p to q-1\n",
        "\n",
        "#print the two lists\n",
        "print('Note: range() function stops before a specified number!!!')\n",
        "print(list_1)\n",
        "print(list_2)\n",
        "\n",
        "#print length of each list\n",
        "print(len(list_1))\n",
        "print(len(list_2))\n",
        "\n",
        "#Non_duplicate list\n",
        "nonduplicate = []\n",
        "\n",
        "#eliminating duplicates \n",
        "if (len(list_1) < len(list_2)):\n",
        "  for value in list_1:\n",
        "    if value in list_2:\n",
        "      nonduplicate.append(value)\n",
        "else:\n",
        "  for value in list_2:\n",
        "    if value in list_1:\n",
        "      nonduplicate.append(value)\n",
        "\n",
        "print(nonduplicate)"
      ],
      "execution_count": null,
      "outputs": []
    },
    {
      "cell_type": "markdown",
      "metadata": {
        "id": "Mh7X6F1rVKit"
      },
      "source": [
        "4. Write a function that takes a string and return a new string with all vowels removed. \n",
        "*  Note: Strings are list"
      ]
    },
    {
      "cell_type": "code",
      "metadata": {
        "id": "DmOPOfHUqV3v"
      },
      "source": [
        "#string input from user\n",
        "string = input('Enter a string:\\n')\n",
        "\n",
        "#create a list that contains all the vowels\n",
        "vowels = \"aeiouAEIOU\"\n",
        "\n",
        "non_vowelstring = []\n",
        "\n",
        "#eliminate all vowels from the list\n",
        "for s in string:\n",
        "  if s not in vowels:\n",
        "    non_vowelstring.append(s)\n",
        "\n",
        "#print string with no vowels\n",
        "print(''.join(non_vowelstring))"
      ],
      "execution_count": null,
      "outputs": []
    },
    {
      "cell_type": "markdown",
      "metadata": {
        "id": "xCB4LBPUi0ZM"
      },
      "source": [
        "Different solutions to the same problem using the replace(), lower(), join() functions and regular expression package"
      ]
    },
    {
      "cell_type": "code",
      "metadata": {
        "id": "3RBov5SRi4ez"
      },
      "source": [
        "#string input from user\n",
        "s = input('Enter a string:\\n')\n",
        "\n",
        "#remove vowels from string\n",
        "for i in \"aeiouAEIOU\":\n",
        "  s = s.replace(i,'')\n",
        "print(s)"
      ],
      "execution_count": null,
      "outputs": []
    },
    {
      "cell_type": "code",
      "metadata": {
        "id": "L5oBO8_cjkxN",
        "outputId": "f3d55b55-6912-41a9-ec73-042dec394835",
        "colab": {
          "base_uri": "https://localhost:8080/",
          "height": 70
        }
      },
      "source": [
        "#string input from user\n",
        "string = input('Enter a string:\\n')\n",
        "\n",
        "#remove vowels from string\n",
        "\"\".join(s for s in string if s.lower() not in \"aeiou\")"
      ],
      "execution_count": null,
      "outputs": [
        {
          "output_type": "stream",
          "text": [
            "Enter a string:\n",
            "peter\n"
          ],
          "name": "stdout"
        },
        {
          "output_type": "execute_result",
          "data": {
            "application/vnd.google.colaboratory.intrinsic+json": {
              "type": "string"
            },
            "text/plain": [
              "'ptr'"
            ]
          },
          "metadata": {
            "tags": []
          },
          "execution_count": 115
        }
      ]
    },
    {
      "cell_type": "code",
      "metadata": {
        "id": "tknBE33Cj_Su"
      },
      "source": [
        "#import regular expression package\n",
        "import re\n",
        "\n",
        "#string input from user\n",
        "string = input('Enter a string:\\n')\n",
        "\n",
        "print(re.sub('[aeiou]', '', string, flags = re.IGNORECASE))"
      ],
      "execution_count": null,
      "outputs": []
    },
    {
      "cell_type": "markdown",
      "metadata": {
        "id": "LN1rP2HToDh_"
      },
      "source": [
        "5. Given a list of integer variables, write one line of Python that takes the list and makes a new list that has only even elements of the list."
      ]
    },
    {
      "cell_type": "code",
      "metadata": {
        "id": "Vpgx1h_ll1Un"
      },
      "source": [
        "#import random to generate random numbers for a list\n",
        "import random\n",
        "\n",
        "int_list = []\n",
        "len_list = random.randint(10,30)\n",
        "\n",
        "\n",
        "while len(int_list) < len_list:\n",
        "    int_list.append(random.randint(1,200))\n",
        "\n",
        "print(int_list)\n",
        "\n",
        "#even numbers only list\n",
        "even = []\n",
        "\n",
        "#find even numbers\n",
        "for v in int_list:\n",
        "  if v%2 == 0:\n",
        "    even.append(v)\n",
        "print(even)\n",
        "\n",
        "#Comprehensed code\n",
        "c = [d for d in int_list if d%2 == 0]\n",
        "print(c)"
      ],
      "execution_count": null,
      "outputs": []
    },
    {
      "cell_type": "markdown",
      "metadata": {
        "id": "5wkKPn7mt8eg"
      },
      "source": [
        "6.  Make a function that can take any non-negative integer as an argument and return it with its digits in descending order. Essentially, rearrange the digits to create the highest possible number"
      ]
    },
    {
      "cell_type": "code",
      "metadata": {
        "id": "gaQSSOak3Fhe"
      },
      "source": [
        "#import random to generate random number\n",
        "import random\n",
        "\n",
        "def descending_order(value):\n",
        "  #convert the integer value to a list of number characters\n",
        "  res = [x for x in str(value)]\n",
        "\n",
        "  #reverse sort the list\n",
        "  res.sort(reverse=True)\n",
        "  #concat the number characters together into a single number string\n",
        "  res_1 = \"\".join(s for s in res)\n",
        "  #print the integer value\n",
        "  print(\"Rearranged highest possible value: {}\" .format(int(res_1)))\n",
        "\n",
        "#generate random number between zero and 10 million \n",
        "num = random.randint(0,10000000)\n",
        "print(\"Original value: {}\\n\" .format(num))\n",
        "\n",
        "#call function\n",
        "descending_order(num)"
      ],
      "execution_count": null,
      "outputs": []
    },
    {
      "cell_type": "markdown",
      "metadata": {
        "id": "kBU4u8bp432e"
      },
      "source": [
        "7. Write a function that takes a non-negative number as its only parameter.Your function should convert the number to a string and add commas as a thousands separator.For example, calling the function with parameter(1000000) should return \"1,000,000\"."
      ]
    },
    {
      "cell_type": "code",
      "metadata": {
        "id": "H9BIHBxVvFc7"
      },
      "source": [
        ""
      ],
      "execution_count": null,
      "outputs": []
    },
    {
      "cell_type": "markdown",
      "metadata": {
        "id": "Gd73Rh8TrIG9"
      },
      "source": [
        "8. Write a function that is supposed to compare two words\n",
        "and return True if one of the words is the reverse of the other"
      ]
    },
    {
      "cell_type": "code",
      "metadata": {
        "id": "9q73DdT_3GgS",
        "outputId": "4a1a11ac-32dd-460c-9e34-ffa577f7856c",
        "colab": {
          "base_uri": "https://localhost:8080/",
          "height": 191
        }
      },
      "source": [
        "#define function with two arguments\n",
        "def is_reverse(word1, word2):\n",
        "  if len(word1) != len(word2): #different length means can't be the same word \n",
        "    return False\n",
        "  \n",
        "  i = 0\n",
        "  j = len(word2) - 1 #substract 1 because j has to be 3 since indexing starts at zero\n",
        "\n",
        "  #define while loop\n",
        "  while j>= 0: #equal to zero because indexing starts at zero\n",
        "    print(i, j)\n",
        "\n",
        "    if word1[i] != word2[j]:\n",
        "      return False\n",
        "    i +=1\n",
        "    j -= 1\n",
        "\n",
        "  return True\n",
        "\n",
        "#user input\n",
        "word1 = input(\"Enter first word:\\n\")\n",
        "word2 = input(\"Enter second word:\\n\")\n",
        "\n",
        "#make both words lowercase\n",
        "is_reverse(word1.lower(), word2.lower())"
      ],
      "execution_count": 10,
      "outputs": [
        {
          "output_type": "stream",
          "text": [
            "Enter first word:\n",
            "Peter\n",
            "Enter second word:\n",
            "retep\n",
            "0 4\n",
            "1 3\n",
            "2 2\n",
            "3 1\n",
            "4 0\n"
          ],
          "name": "stdout"
        },
        {
          "output_type": "execute_result",
          "data": {
            "text/plain": [
              "True"
            ]
          },
          "metadata": {
            "tags": []
          },
          "execution_count": 10
        }
      ]
    },
    {
      "cell_type": "markdown",
      "metadata": {
        "id": "XE1kus1dvDbR"
      },
      "source": [
        "9. Ask the user for a string and print out whether this string is a palindrome or not. (A palindrome is a string that reads the same forwards and backwards.)"
      ]
    },
    {
      "cell_type": "code",
      "metadata": {
        "id": "I7PSZT6-sw7i"
      },
      "source": [
        "#user input\n",
        "word = input(\"Enter any word:\\n\")\n",
        "\n",
        "#reverse the word\n",
        "reverse_word = word[::-1]\n",
        " \n",
        "#check if word is a palindrome. Convert to lowercase (standad format)\n",
        "if word.lower() == reverse_word.lower():\n",
        "  print(word + \" is a palindrome!\")\n",
        "else:\n",
        "  print(word + \" is not a palindrome!\")"
      ],
      "execution_count": null,
      "outputs": []
    },
    {
      "cell_type": "markdown",
      "metadata": {
        "id": "ilRl8WHGxEJS"
      },
      "source": [
        "10. \n",
        "*  ROT13 is a weak form of encryption that involves “rotating” each letter in a word\n",
        "by 13 places. To rotate a letter means to shift it through the alphabet, wrapping around to the\n",
        "beginning if necessary, so ’A’ shifted by 3 is ’D’ and ’Z’ shifted by 1 is ’A’.\n",
        "*  Write a function called rotate_word that takes a string and an integer as parameters, and that\n",
        "returns a new string that contains the letters from the original string “rotated” by the given amount.\n",
        "* For example, “cheer” rotated by 7 is “jolly” and “melon” rotated by -10 is “cubed”.\n",
        "* You might want to use the built-in functions **ord**, which converts a character to a numeric code,\n",
        "and chr, which converts numeric codes to characters.\n"
      ]
    },
    {
      "cell_type": "code",
      "metadata": {
        "id": "LDKd782dvzvp"
      },
      "source": [
        "#The Python ord() function is used to return an integer of the given single Unicode character. \n",
        "#The returned integer represents the Unicode code point.\n",
        "#Inversely, the Python chr() function takes a Unicode code point (integer) and returns a string.\n",
        "\n",
        "#define function\n",
        "def rotate_word(word, num):\n",
        "\n",
        "  o_word = []\n",
        "  r_word = []\n",
        "  #convert each word character into Unicode and rotate appropriately\n",
        "  for s in word:\n",
        "     s = ord(s) + num\n",
        "     print(s)\n",
        "     o_word.append(s)\n",
        "  \n",
        "  #convert Unicode of new word in Character \n",
        "  for w in o_word:\n",
        "    w = chr(w)\n",
        "    print(w)\n",
        "    r_word.append(w)\n",
        "\n",
        "  print(''.join(r_word))\n",
        "\n",
        "#user input\n",
        "word = input(\"Enter string to be rotated:\\n\")\n",
        "num = int(input(\"Enter any integer value:\\n\"))\n",
        "\n",
        "#rotate word\n",
        "rotate_word(word,num)\n",
        "\n",
        "#CODE INCOMPLETE!!!!!"
      ],
      "execution_count": null,
      "outputs": []
    }
  ]
}