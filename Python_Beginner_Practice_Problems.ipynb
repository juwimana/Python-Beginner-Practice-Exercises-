{
  "nbformat": 4,
  "nbformat_minor": 0,
  "metadata": {
    "colab": {
      "name": "Python Beginner Practice Problems.ipynb",
      "provenance": [],
      "authorship_tag": "ABX9TyMF2GBrG17JQEgPBSFNiSZp",
      "include_colab_link": true
    },
    "kernelspec": {
      "name": "python3",
      "display_name": "Python 3"
    }
  },
  "cells": [
    {
      "cell_type": "markdown",
      "metadata": {
        "id": "view-in-github",
        "colab_type": "text"
      },
      "source": [
        "<a href=\"https://colab.research.google.com/github/juwimana/Python-Beginner-Practice-Exercises-/blob/main/Python_Beginner_Practice_Problems.ipynb\" target=\"_parent\"><img src=\"https://colab.research.google.com/assets/colab-badge.svg\" alt=\"Open In Colab\"/></a>"
      ]
    },
    {
      "cell_type": "markdown",
      "metadata": {
        "id": "4sMLk-HPZcR8"
      },
      "source": [
        "# Python Practise Problems (with Possible Solutions)\n",
        "Practice, Practice, Practice. First steps, to proficiency in Python!\n",
        "  "
      ]
    },
    {
      "cell_type": "markdown",
      "metadata": {
        "id": "ct6lOWuraUa8"
      },
      "source": [
        "1. Create a program that asks the user to enter their name and their age. Print out a message addressed to them that tells them the year that they will turn 80 years old"
      ]
    },
    {
      "cell_type": "code",
      "metadata": {
        "id": "m-jbq1GLda_G"
      },
      "source": [
        "#requesting name from user\n",
        "name = input(\"Enter your name\\n\\n\")\n",
        "#requesting age of user\n",
        "age = input(\"Enter your age\\n\\n\")\n",
        "#calculating when user will be 80 years old\n",
        "current_year = 2020\n",
        "future_year = current_year + (80-int(age))\n",
        "print('{} your will be 80 years old in {}'.format(name,future_year)) "
      ],
      "execution_count": null,
      "outputs": []
    },
    {
      "cell_type": "markdown",
      "metadata": {
        "id": "91r4AP5qigX_"
      },
      "source": [
        "2. Create a program that asks the user for a number and then prints out a list of all the divisors of that number"
      ]
    },
    {
      "cell_type": "code",
      "metadata": {
        "id": "sSKdgRZoen17"
      },
      "source": [
        "#input from user\n",
        "number = int(input(\"Enter any value\\n\\n\"))\n",
        "#generating  a  list of values\n",
        "possible_divisor = range(1,number+1)\n",
        "#finding divisor\n",
        "print(\"\\nThe following values below are divisors of {}:\\n\".format(number))\n",
        "for value in possible_divisor:\n",
        "  if number%value == 0:\n",
        "    print(value)"
      ],
      "execution_count": null,
      "outputs": []
    },
    {
      "cell_type": "code",
      "metadata": {
        "id": "P_ihXaGildVc"
      },
      "source": [
        ""
      ],
      "execution_count": null,
      "outputs": []
    }
  ]
}